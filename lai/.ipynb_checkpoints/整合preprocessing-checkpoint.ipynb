{
 "cells": [
  {
   "cell_type": "code",
   "execution_count": 104,
   "metadata": {
    "ExecuteTime": {
     "end_time": "2019-10-14T12:51:36.093854Z",
     "start_time": "2019-10-14T12:51:36.061962Z"
    },
    "hide_input": true
   },
   "outputs": [],
   "source": [
    "import pandas as pd\n",
    "import numpy as np\n",
    "from category_encoders.target_encoder import TargetEncoder\n",
    "import pandas as pd\n",
    "import numpy as np\n",
    "import matplotlib.pyplot as plt\n",
    "import seaborn as sns\n",
    "from scipy.stats import norm , skew\n",
    "from  scipy import stats\n",
    "from scipy.special import boxcox\n",
    "import os \n",
    "import warnings\n",
    "warnings.filterwarnings('ignore')\n",
    "from sklearn.utils import resample\n",
    "from sklearn.model_selection import train_test_split\n",
    "from sklearn.linear_model import LogisticRegression\n",
    "from sklearn.tree import DecisionTreeClassifier\n",
    "from sklearn.svm import SVC\n",
    "from sklearn.metrics import make_scorer, precision_score, recall_score, classification_report, confusion_matrix\n",
    "from sklearn.metrics import fbeta_score, recall_score, precision_score, average_precision_score, precision_recall_curve\n",
    "from collections import Counter\n",
    "from sklearn.ensemble import RandomForestClassifier\n",
    "from imblearn.over_sampling import SMOTE ,ADASYN,BorderlineSMOTE\n",
    "from imblearn.under_sampling import NearMiss\n",
    "import seaborn as sns\n",
    "from collections import Counter\n",
    "from sklearn.metrics import make_scorer\n",
    "from time import time\n",
    "import lightgbm as light\n",
    "import catboost as cat\n",
    "import xgboost as xgb\n",
    "from imblearn.ensemble import BalancedRandomForestClassifier\n",
    "from imblearn.under_sampling import RandomUnderSampler \n",
    "import pandas as pd\n",
    "import numpy as np\n",
    "from category_encoders.target_encoder import TargetEncoder\n",
    "import pandas as pd\n",
    "import numpy as np\n",
    "import matplotlib.pyplot as plt\n",
    "import seaborn as sns\n",
    "from scipy.stats import norm , skew\n",
    "from  scipy import stats\n",
    "from scipy.special import boxcox\n",
    "import os \n",
    "import warnings\n",
    "warnings.filterwarnings('ignore')\n",
    "from sklearn.utils import resample\n",
    "from sklearn.model_selection import train_test_split\n",
    "from sklearn.linear_model import LogisticRegression\n",
    "from sklearn.tree import DecisionTreeClassifier\n",
    "from sklearn.svm import SVC\n",
    "from sklearn.metrics import make_scorer, precision_score, recall_score, classification_report, confusion_matrix\n",
    "from sklearn.metrics import fbeta_score, recall_score, precision_score, average_precision_score, precision_recall_curve\n",
    "from collections import Counter\n",
    "from sklearn.ensemble import RandomForestClassifier\n",
    "from imblearn.over_sampling import SMOTE ,ADASYN,BorderlineSMOTE\n",
    "from imblearn.under_sampling import NearMiss\n",
    "import seaborn as sns\n",
    "from collections import Counter\n",
    "from sklearn.metrics import make_scorer\n",
    "from time import time\n",
    "import lightgbm as light\n",
    "import catboost as cat\n",
    "import xgboost as xgb\n",
    "from imblearn.ensemble import BalancedRandomForestClassifier\n",
    "from imblearn.under_sampling import RandomUnderSampler \n",
    "\n",
    "import numpy as np\n",
    "import pandas as pd\n",
    "from sklearn import preprocessing \n",
    "from sklearn.preprocessing import OneHotEncoder, LabelEncoder,StandardScaler\n",
    "import random\n",
    "import matplotlib.pyplot as plt\n",
    "import seaborn as sns\n",
    "%matplotlib inline\n",
    "pd.options.mode.chained_assignment = None\n",
    "import warnings\n",
    "from sklearn import model_selection\n",
    "from sklearn.model_selection import train_test_split,learning_curve,cross_val_score,KFold,TimeSeriesSplit,GridSearchCV\n",
    "from sklearn.utils import resample\n",
    "from sklearn.ensemble import (GradientBoostingClassifier, GradientBoostingRegressor, \n",
    "                              RandomForestClassifier, RandomForestRegressor,AdaBoostClassifier) \n",
    "from sklearn.naive_bayes import MultinomialNB\n",
    "from sklearn.naive_bayes import GaussianNB\n",
    "from sklearn.naive_bayes import BernoulliNB\n",
    "from sklearn.neural_network import MLPClassifier\n",
    "from sklearn.tree import DecisionTreeClassifier\n",
    "from sklearn.neighbors import KNeighborsClassifier\n",
    "from sklearn.linear_model import LogisticRegression\n",
    "from sklearn import tree\n",
    "from sklearn import metrics\n",
    "from imblearn.over_sampling import SMOTE\n",
    "import xgboost as xgb\n",
    "from xgboost import XGBClassifier\n",
    "from sklearn.svm import SVC\n",
    "import lightgbm as lgbm\n",
    "from sklearn.metrics import f1_score, confusion_matrix,roc_auc_score\n"
   ]
  },
  {
   "cell_type": "markdown",
   "metadata": {},
   "source": [
    "# import data"
   ]
  },
  {
   "cell_type": "code",
   "execution_count": 70,
   "metadata": {
    "ExecuteTime": {
     "end_time": "2019-10-14T12:25:35.137491Z",
     "start_time": "2019-10-14T12:25:32.812984Z"
    }
   },
   "outputs": [],
   "source": [
    "submit = pd.read_csv('../../data/submission_test.csv')\n",
    "train = pd.read_csv('../../data/train.csv')\n",
    "test = pd.read_csv('../../data/test.csv')"
   ]
  },
  {
   "cell_type": "markdown",
   "metadata": {},
   "source": [
    "## solve the index"
   ]
  },
  {
   "cell_type": "code",
   "execution_count": 71,
   "metadata": {
    "ExecuteTime": {
     "end_time": "2019-10-14T12:25:36.756535Z",
     "start_time": "2019-10-14T12:25:36.750551Z"
    }
   },
   "outputs": [],
   "source": [
    "train_index = pd.DataFrame(train['txkey'])\n",
    "test_index = pd.DataFrame(test['txkey'])"
   ]
  },
  {
   "cell_type": "markdown",
   "metadata": {},
   "source": [
    "## concat train test into data_all"
   ]
  },
  {
   "cell_type": "code",
   "execution_count": 72,
   "metadata": {
    "ExecuteTime": {
     "end_time": "2019-10-14T12:25:38.721450Z",
     "start_time": "2019-10-14T12:25:38.443113Z"
    }
   },
   "outputs": [],
   "source": [
    "data = pd.concat([train,test],axis=0,sort=False)"
   ]
  },
  {
   "cell_type": "markdown",
   "metadata": {},
   "source": [
    "# preprocessing "
   ]
  },
  {
   "cell_type": "markdown",
   "metadata": {},
   "source": [
    "## fillna "
   ]
  },
  {
   "cell_type": "code",
   "execution_count": 73,
   "metadata": {
    "ExecuteTime": {
     "end_time": "2019-10-14T12:25:40.802830Z",
     "start_time": "2019-10-14T12:25:40.703097Z"
    }
   },
   "outputs": [],
   "source": [
    "data['flbmk'].fillna('N', inplace=True)\n",
    "data['flg_3dsmk'].fillna('N', inplace=True)"
   ]
  },
  {
   "cell_type": "markdown",
   "metadata": {},
   "source": [
    "## cross feature"
   ]
  },
  {
   "cell_type": "code",
   "execution_count": 74,
   "metadata": {
    "ExecuteTime": {
     "end_time": "2019-10-14T12:25:46.579345Z",
     "start_time": "2019-10-14T12:25:42.802417Z"
    }
   },
   "outputs": [],
   "source": [
    "data['ecfg_stocn'] = data['ecfg'] + data['stocn'].astype('str')\n",
    "data['ecfg_scity'] = data['ecfg'] + data['scity'].astype('str')\n",
    "\n",
    "data['ovrlt_stocn'] = data['ovrlt'] + data['stocn'].astype('str')\n",
    "data['ovrlt_scity'] = data['ovrlt'] + data['stocn'].astype('str')"
   ]
  },
  {
   "cell_type": "markdown",
   "metadata": {},
   "source": [
    "## categroy to num"
   ]
  },
  {
   "cell_type": "code",
   "execution_count": 75,
   "metadata": {
    "ExecuteTime": {
     "end_time": "2019-10-14T12:25:49.917327Z",
     "start_time": "2019-10-14T12:25:49.178633Z"
    }
   },
   "outputs": [],
   "source": [
    "data['ecfg'] = data['ecfg'].astype('category').cat.codes\n",
    "data['flbmk'] = data['flbmk'].astype('category').cat.codes\n",
    "data['flg_3dsmk'] = data['flg_3dsmk'].astype('category').cat.codes\n",
    "data['insfg'] = data['insfg'].astype('category').cat.codes\n",
    "data['ovrlt'] = data['ovrlt'].astype('category').cat.codes\n",
    "# #數值\n",
    "data['acqic'] = data['acqic'].astype('category').cat.codes\n",
    "data['bacno'] = data['bacno'].astype('category').cat.codes\n",
    "data['cano'] = data['cano'].astype('category').cat.codes\n",
    "data['csmcu'] = data['csmcu'].astype('category').cat.codes\n",
    "data['hcefg'] = data['hcefg'].astype('category').cat.codes\n",
    "data['mcc'] = data['mcc'].astype('category').cat.codes\n",
    "data['mchno'] = data['mchno'].astype('category').cat.codes\n",
    "data['scity'] = data['scity'].astype('category').cat.codes\n",
    "data['stocn'] = data['stocn'].astype('category').cat.codes"
   ]
  },
  {
   "cell_type": "markdown",
   "metadata": {
    "ExecuteTime": {
     "end_time": "2019-10-14T11:34:32.850957Z",
     "start_time": "2019-10-14T11:34:32.846002Z"
    }
   },
   "source": [
    "## loctm data"
   ]
  },
  {
   "cell_type": "code",
   "execution_count": 76,
   "metadata": {
    "ExecuteTime": {
     "end_time": "2019-10-14T12:25:56.499322Z",
     "start_time": "2019-10-14T12:25:52.402240Z"
    }
   },
   "outputs": [],
   "source": [
    "data['loctm_int'] = data['loctm'].astype(int)\n",
    "data['loctm_str'] = data['loctm_int'].astype(str)\n",
    "data['loctm_str'] = data['loctm_str'].apply(lambda x : '0'+x if (len(x)==5) else ('00'+x if (len(x)==4) else ('000'+x if (len(x)==3) else ('0000'+x if (len(x)==2) else ('00000'+x if (len(x)==1) else x)))))\n",
    "data['hours'] = data['loctm_str'].str[0:2]\n",
    "data['minutes'] = data['loctm_str'].str[2:4]\n",
    "data['seconds'] = data['loctm_str'].str[4:6]\n",
    "data['hours'] = data['hours'].astype(int)\n",
    "data['minutes'] = data['minutes'].astype(int)\n",
    "data['seconds'] = data['seconds'].astype(int)\n",
    "data['total_seconds'] = data['locdt']*86400+data['hours']*3600+data['minutes']*60+data['seconds']\n",
    "data['time'] = (data['hours']*3600+data['minutes']*60+data['seconds'])#/86400\n",
    "\n",
    "data['trad_hour'] = data['loctm'] // 10000\n",
    "\n",
    "data['morning'] = ((data['trad_hour'] < 12) & (data['trad_hour'] >=6)).replace([True,False],[1,0])\n",
    "data['afternoon'] = ((data['trad_hour'] < 18) & (data['trad_hour'] >=12)).replace([True,False],[1,0])\n",
    "data['night'] = ((data['trad_hour'] < 24) & (data['trad_hour'] >=18)).replace([True,False],[1,0])\n",
    "data['midnight'] = ((data['trad_hour'] < 6) & (data['trad_hour'] >=0)).replace([True,False],[1,0])"
   ]
  },
  {
   "cell_type": "markdown",
   "metadata": {},
   "source": [
    "## account data"
   ]
  },
  {
   "cell_type": "code",
   "execution_count": 77,
   "metadata": {
    "ExecuteTime": {
     "end_time": "2019-10-14T12:27:40.093196Z",
     "start_time": "2019-10-14T12:25:58.243793Z"
    }
   },
   "outputs": [],
   "source": [
    "transation_count = data.groupby(['bacno'])['cano'].count().rename(\"transation_count\").reset_index()\n",
    "data = data.merge(transation_count,how='left')\n",
    "\n",
    "transation_count_cano = data.groupby(['bacno','cano'])['cano'].count().rename(\"transation_count_cano\").reset_index()\n",
    "data = data.merge(transation_count_cano,how='left')\n",
    "\n",
    "acqic_duplicated_count = data.groupby(['bacno','acqic'])['acqic'].count().rename(\"acqic_duplicated_count\").reset_index()\n",
    "data = data.merge(acqic_duplicated_count,how='left')\n",
    "\n",
    "conam_duplicated_count = data.groupby(['bacno','conam'])['conam'].count().rename(\"conam_duplicated_count\").reset_index()\n",
    "data = data.merge(conam_duplicated_count,how='left')\n",
    "\n",
    "conam_stocn = data.groupby(['csmcu','stocn'])['stocn'].count().rename(\"conam_stocn\").reset_index()\n",
    "data = data.merge(conam_stocn, on=['csmcu', 'stocn'])\n",
    "\n",
    "bacno_mchno = data.groupby(['bacno','mchno'])['mchno'].count().rename(\"bacno_mchno\").reset_index()\n",
    "data = data.merge(bacno_mchno, on=['bacno', 'mchno'])\n",
    "\n",
    "cano_mchno = data.groupby(['cano','mchno'])['mchno'].count().rename(\"cano_mchno\").reset_index()\n",
    "data = data.merge(cano_mchno, on=['cano', 'mchno'])\n",
    "\n",
    "bacno_stocn = data.groupby(['bacno','stocn'])['stocn'].count().rename(\"bacno_stocn\").reset_index()\n",
    "data = data.merge(bacno_stocn, on=['bacno', 'stocn'])\n",
    "\n",
    "cano_stocn = data.groupby(['cano','stocn'])['stocn'].count().rename(\"cano_stocn\").reset_index()\n",
    "data = data.merge(cano_stocn, on=['cano', 'stocn'])\n",
    "\n",
    "bacno_scity = data.groupby(['bacno','scity'])['scity'].count().rename(\"bacno_scity\").reset_index()\n",
    "data = data.merge(bacno_scity, on=['bacno', 'scity'])\n",
    "\n",
    "cano_scity = data.groupby(['cano','scity'])['scity'].count().rename(\"cano_scity\").reset_index()\n",
    "data = data.merge(cano_scity, on=['cano', 'scity'])\n",
    "\n",
    "\n",
    "bacno_flg_3dsmk = data.groupby(['bacno','flg_3dsmk'])['flg_3dsmk'].count().rename(\"bacno_flg_3dsmk\").reset_index()\n",
    "data = data.merge(bacno_flg_3dsmk, on=['bacno', 'flg_3dsmk'])\n",
    "\n",
    "cano_flg_3dsmk = data.groupby(['cano','flg_3dsmk'])['flg_3dsmk'].count().rename(\"cano_flg_3dsmk\").reset_index()\n",
    "data = data.merge(cano_flg_3dsmk, on=['cano', 'flg_3dsmk'])\n",
    "\n",
    "\n",
    "bacno_ecfg_mean = data.groupby(['bacno'])['ecfg'].mean().rename(\"bacno_ecfg_mean\").reset_index()\n",
    "data = data.merge(bacno_ecfg_mean, on=['bacno'])\n",
    "\n",
    "cano_ecfg_mean = data.groupby(['cano'])['ecfg'].mean().rename(\"cano_ecfg_mean\").reset_index()\n",
    "data = data.merge(cano_ecfg_mean, on=['cano'])\n",
    "\n",
    "grp = data.groupby(['bacno'])['conam'].min().rename(\"comsum_min\").reset_index()\n",
    "data = data.merge(grp,how='left')\n",
    "\n",
    "grp = data.groupby(['bacno'])['conam'].max().rename('comsum_max').reset_index()\n",
    "data = data.merge(grp,how='left')\n",
    "\n",
    "grp = (data.groupby(['bacno'])['txkey'].count() / data['locdt'].max()).reset_index().rename(columns={'txkey':'acc_trad_ave'})\n",
    "data = data.merge(grp,how='left')\n",
    "\n",
    "grp = data.groupby(['bacno'])['txkey'].count().reset_index().rename(columns={'txkey':'acc_trad_total'})\n",
    "data = data.merge(grp,how='left')\n",
    "\n",
    "grp = data.groupby(['bacno'])['conam'].sum().reset_index().rename(columns={'conam':'comsum_total'})\n",
    "data = data.merge(grp,how='left')\n",
    "\n",
    "grp = data.groupby(['bacno'])['conam'].mean().reset_index().rename(columns={'conam':'comsum_ave'})\n",
    "data = data.merge(grp,how='left')\n",
    "\n",
    "mean_amount = data.groupby(['bacno'])['conam'].mean().rename(\"mean_amount\").reset_index()\n",
    "data = data.merge(mean_amount,how='left')\n",
    "\n",
    "data['amtby_mean_amount'] = data['conam'] / data['mean_amount']\n",
    "data['amtby_mean_amount'] = data['amtby_mean_amount'].fillna(0)\n",
    "\n",
    "mean_amount_cano = data.groupby(['bacno','cano'])['conam'].mean().rename(\"mean_amount_cano\").reset_index()\n",
    "data = data.merge(mean_amount_cano,how='left')\n",
    "\n",
    "data['amtby_mean_amount_cano'] = data['conam'] / data['mean_amount_cano']\n",
    "data['amtby_mean_amount_cano'] = data['amtby_mean_amount_cano'].fillna(0)\n",
    "\n",
    "\n",
    "median_amount = data.groupby(['bacno'])['conam'].median().rename(\"median_amount\").reset_index()\n",
    "data = data.merge(median_amount,how='left')\n",
    "\n",
    "data['amtby_median_amount'] = data['conam'] / data['median_amount']\n",
    "data['amtby_median_amount'] = data['amtby_median_amount'].fillna(0)\n",
    "\n",
    "median_amount_cano = data.groupby(['bacno','cano'])['conam'].median().rename(\"median_amount_cano\").reset_index()\n",
    "data = data.merge(median_amount_cano,how='left')\n",
    "\n",
    "data['amtby_median_amount_cano'] = data['conam'] / data['median_amount_cano']\n",
    "data['amtby_median_amount_cano'] = data['amtby_median_amount_cano'].fillna(0)\n",
    "\n",
    "std_amount = data.groupby(['bacno'])['conam'].std().rename(\"std_amount\").reset_index()\n",
    "data = data.merge(std_amount,how='left')"
   ]
  },
  {
   "cell_type": "markdown",
   "metadata": {},
   "source": [
    "## time series"
   ]
  },
  {
   "cell_type": "code",
   "execution_count": 78,
   "metadata": {
    "ExecuteTime": {
     "end_time": "2019-10-14T12:30:02.512139Z",
     "start_time": "2019-10-14T12:27:41.842288Z"
    }
   },
   "outputs": [],
   "source": [
    "day30 = data[data['locdt'] <= 30]\n",
    "grp = (day30.groupby(['bacno'])['txkey'].count() / 30).reset_index().rename(columns={'txkey':'comsum_feq30'})\n",
    "data = data.merge(grp,how='left')\n",
    "data['comsum_feq30'].fillna(0,inplace=True)\n",
    "\n",
    "day30 = data[(data['locdt'] <= 60) & (data['locdt'] >30 ) ]\n",
    "grp = (day30.groupby(['bacno'])['txkey'].count() / 30).reset_index().rename(columns={'txkey':'comsum_feq3060'})\n",
    "data = data.merge(grp,how='left')\n",
    "data['comsum_feq3060'].fillna(0,inplace=True)\n",
    "\n",
    "day30 = data[(data['locdt'] <= 90) & (data['locdt'] >60 ) ]\n",
    "grp = (day30.groupby(['bacno'])['txkey'].count() / 30).reset_index().rename(columns={'txkey':'comsum_feq6090'})\n",
    "data = data.merge(grp,how='left')\n",
    "data['comsum_feq6090'].fillna(0,inplace=True)\n",
    "\n",
    "day30 = data[(data['locdt'] <= 120) & (data['locdt'] >90 ) ]\n",
    "grp = (day30.groupby(['bacno'])['txkey'].count() / 30).reset_index().rename(columns={'txkey':'comsum_feq90120'})\n",
    "data = data.merge(grp,how='left')\n",
    "data['comsum_feq90120'].fillna(0,inplace=True)\n",
    "\n",
    "day60 = data[data['locdt'] <= 60]\n",
    "grp = (day60.groupby(['bacno'])['txkey'].count() / 60).reset_index().rename(columns={'txkey':'comsum_feq60'})\n",
    "data = data.merge(grp,how='left')\n",
    "data['comsum_feq60'].fillna(0,inplace=True)\n",
    "\n",
    "day60 = data[(data['locdt'] <= 90) & (data['locdt'] >30 ) ]\n",
    "grp = (day60.groupby(['bacno'])['txkey'].count() / 60).reset_index().rename(columns={'txkey':'comsum_feq3090'})\n",
    "data = data.merge(grp,how='left')\n",
    "data['comsum_feq3090'].fillna(0,inplace=True)\n",
    "\n",
    "day60 = data[(data['locdt'] <= 120) & (data['locdt'] >60 ) ]\n",
    "grp = (day60.groupby(['bacno'])['txkey'].count() / 60).reset_index().rename(columns={'txkey':'comsum_feq60120'})\n",
    "data = data.merge(grp,how='left')\n",
    "data['comsum_feq60120'].fillna(0,inplace=True)\n",
    "\n",
    "grp = data.groupby(['locdt'])['bacno'].count().reset_index().rename(columns={'bacno':'day_trad_num'})\n",
    "data = data.merge(grp,how='left')\n",
    "\n",
    "grp = data.groupby(['locdt'])['conam'].sum().reset_index().rename(columns={'conam':'day_comsum_total'})\n",
    "data = data.merge(grp,how='left')\n",
    "\n",
    "\n",
    "frequency = ((data.groupby(['bacno'])['locdt'].max()-data.groupby(['bacno'])['locdt'].min())/data.groupby(['bacno'])['locdt'].count()).rename(\"frequency\").reset_index()\n",
    "data = data.merge(frequency,how='left')\n",
    "\n",
    "frequency_cano = ((data.groupby(['bacno','cano'])['locdt'].max()-data.groupby(['bacno','cano'])['locdt'].min())/data.groupby(['bacno','cano'])['locdt'].count()).rename(\"frequency_cano\").reset_index()\n",
    "data = data.merge(frequency_cano,how='left')\n",
    "\n",
    "mean_time = data.groupby(['bacno'])['time'].mean().rename(\"mean_time\").reset_index()\n",
    "data = data.merge(mean_time,how='left')\n",
    "\n",
    "median_time = data.groupby(['bacno'])['time'].median().rename(\"median_time\").reset_index()\n",
    "data = data.merge(median_time,how='left')\n",
    "\n",
    "\n",
    "mean_time_cano = data.groupby(['bacno','cano'])['time'].mean().rename(\"mean_time_cano\").reset_index()\n",
    "data = data.merge(mean_time_cano,how='left')\n",
    "\n",
    "median_time_cano = data.groupby(['bacno','cano'])['time'].median().rename(\"median_time_cano\").reset_index()\n",
    "data = data.merge(median_time_cano,how='left')\n",
    "\n",
    "data = data.sort_values(by = ['total_seconds'])\n",
    "data['total_seconds_diff'] = data.groupby(['bacno'])['total_seconds'].diff()\n",
    "data['total_seconds_diff'] = data['total_seconds_diff'].fillna(0)\n",
    "\n",
    "data = data.sort_values(by = ['total_seconds'])\n",
    "data['total_seconds_diff_cano'] = data.groupby(['bacno','cano'])['total_seconds'].diff()\n",
    "data['total_seconds_diff_cano'] = data['total_seconds_diff_cano'].fillna(0)\n",
    "\n",
    "\n",
    "data['date_day'] = data['locdt'] % 30\n",
    "\n",
    "data['week'] = data['locdt'] % 7\n",
    "\n",
    "data['2_week'] = data['locdt'] % 14\n",
    "\n",
    "data['month'] = data['locdt'] % 30"
   ]
  },
  {
   "cell_type": "markdown",
   "metadata": {},
   "source": [
    "## country data"
   ]
  },
  {
   "cell_type": "code",
   "execution_count": 79,
   "metadata": {
    "ExecuteTime": {
     "end_time": "2019-10-14T12:30:17.242580Z",
     "start_time": "2019-10-14T12:30:04.557269Z"
    }
   },
   "outputs": [],
   "source": [
    "data['is_taiwan'] = (data['stocn'] == 102).replace([True,False],[1,0])\n",
    "\n",
    "grp = data.groupby(['stocn'])['txkey'].count().reset_index().rename(columns={'txkey':'country_com_num'})\n",
    "data = data.merge(grp,how='left')\n",
    "\n",
    "grp = data.groupby(['scity'])['txkey'].count().reset_index().rename(columns={'txkey':'city_com_num'})\n",
    "data = data.merge(grp,how='left')"
   ]
  },
  {
   "cell_type": "markdown",
   "metadata": {},
   "source": [
    "## target encoding"
   ]
  },
  {
   "cell_type": "code",
   "execution_count": 80,
   "metadata": {
    "ExecuteTime": {
     "end_time": "2019-10-14T12:30:20.574679Z",
     "start_time": "2019-10-14T12:30:19.386228Z"
    }
   },
   "outputs": [],
   "source": [
    "object_list = []\n",
    "for col in data.columns.tolist():\n",
    "    if data[col].dtype == 'object':\n",
    "        object_list.append(col)\n",
    "        \n",
    "nd_tar_list = []\n",
    "for col in object_list:\n",
    "\n",
    "    if len(data[col].unique()) < 5:\n",
    "        nd_ont_list.append(col)\n",
    "    else:\n",
    "        nd_tar_list.append(col)"
   ]
  },
  {
   "cell_type": "code",
   "execution_count": 87,
   "metadata": {
    "ExecuteTime": {
     "end_time": "2019-10-14T12:34:42.221493Z",
     "start_time": "2019-10-14T12:34:40.408595Z"
    }
   },
   "outputs": [],
   "source": [
    "train = data.merge(train_index)\n",
    "test = data.merge(test_index)"
   ]
  },
  {
   "cell_type": "code",
   "execution_count": 88,
   "metadata": {
    "ExecuteTime": {
     "end_time": "2019-10-14T12:34:56.422996Z",
     "start_time": "2019-10-14T12:34:44.685848Z"
    }
   },
   "outputs": [],
   "source": [
    "train_tar = train[train['locdt'] > 30]\n",
    "\n",
    "tar = TargetEncoder(smoothing=0.9).fit(train_tar[nd_tar_list],train_tar['fraud_ind'])\n",
    "test[nd_tar_list] = tar.transform(test[nd_tar_list])\n",
    "train[nd_tar_list] = tar.transform(train[nd_tar_list])"
   ]
  },
  {
   "cell_type": "markdown",
   "metadata": {},
   "source": [
    "## check train test shape"
   ]
  },
  {
   "cell_type": "code",
   "execution_count": 90,
   "metadata": {
    "ExecuteTime": {
     "end_time": "2019-10-14T12:36:51.022587Z",
     "start_time": "2019-10-14T12:36:50.921016Z"
    }
   },
   "outputs": [
    {
     "name": "stdout",
     "output_type": "stream",
     "text": [
      "(1521787, 93) (421665, 92)\n"
     ]
    }
   ],
   "source": [
    "test.drop('fraud_ind',axis=1,inplace=True)\n",
    "print(train.shape,test.shape)"
   ]
  },
  {
   "cell_type": "markdown",
   "metadata": {},
   "source": [
    "# build model"
   ]
  },
  {
   "cell_type": "code",
   "execution_count": 100,
   "metadata": {
    "ExecuteTime": {
     "end_time": "2019-10-14T12:50:46.966716Z",
     "start_time": "2019-10-14T12:50:46.963700Z"
    }
   },
   "outputs": [],
   "source": [
    "lig_model = light.LGBMClassifier(\n",
    "    n_estimators=700,reg_alpha=0.3,num_leaves=200,learning_rate=0.1,reg_lambda=0.5,subsample=0.7,is_unbalance=True)"
   ]
  },
  {
   "cell_type": "code",
   "execution_count": 101,
   "metadata": {
    "ExecuteTime": {
     "end_time": "2019-10-14T12:50:51.449647Z",
     "start_time": "2019-10-14T12:50:49.837867Z"
    }
   },
   "outputs": [],
   "source": [
    "X_train , X_valid , y_train ,y_valid = train_test_split(\n",
    "    train.drop(['cano','bacno','fraud_ind','txkey'],axis=1),train['fraud_ind'],test_size=0.25,random_state =1102)"
   ]
  },
  {
   "cell_type": "code",
   "execution_count": 102,
   "metadata": {
    "ExecuteTime": {
     "end_time": "2019-10-14T12:50:54.698956Z",
     "start_time": "2019-10-14T12:50:54.693969Z"
    }
   },
   "outputs": [],
   "source": [
    "def cus_f1(ytru, ypre):\n",
    "    threshold = 0.5\n",
    "    y_pre = [int(item > threshold) for item in ypre]\n",
    "    f1 = f1_score(ytru, y_pre, average='macro')\n",
    "    return 'f1', f1, True"
   ]
  },
  {
   "cell_type": "code",
   "execution_count": 105,
   "metadata": {
    "ExecuteTime": {
     "end_time": "2019-10-14T13:02:42.964613Z",
     "start_time": "2019-10-14T12:51:43.874849Z"
    }
   },
   "outputs": [
    {
     "name": "stdout",
     "output_type": "stream",
     "text": [
      "[1]\ttraining's binary_logloss: 0.0862843\ttraining's f1: 0.74053\tvalid_1's binary_logloss: 0.0879919\tvalid_1's f1: 0.734075\n",
      "Training until validation scores don't improve for 100 rounds.\n",
      "[2]\ttraining's binary_logloss: 0.0822914\ttraining's f1: 0.740006\tvalid_1's binary_logloss: 0.0845979\tvalid_1's f1: 0.733073\n",
      "[3]\ttraining's binary_logloss: 0.0773232\ttraining's f1: 0.740433\tvalid_1's binary_logloss: 0.0799923\tvalid_1's f1: 0.733299\n",
      "[4]\ttraining's binary_logloss: 0.0738258\ttraining's f1: 0.741321\tvalid_1's binary_logloss: 0.0766869\tvalid_1's f1: 0.734113\n",
      "[5]\ttraining's binary_logloss: 0.0701704\ttraining's f1: 0.743606\tvalid_1's binary_logloss: 0.0732562\tvalid_1's f1: 0.736765\n",
      "[6]\ttraining's binary_logloss: 0.0669741\ttraining's f1: 0.746276\tvalid_1's binary_logloss: 0.0702328\tvalid_1's f1: 0.7393\n",
      "[7]\ttraining's binary_logloss: 0.0641507\ttraining's f1: 0.749232\tvalid_1's binary_logloss: 0.0675387\tvalid_1's f1: 0.741766\n",
      "[8]\ttraining's binary_logloss: 0.0615515\ttraining's f1: 0.752509\tvalid_1's binary_logloss: 0.0650631\tvalid_1's f1: 0.744776\n",
      "[9]\ttraining's binary_logloss: 0.0589291\ttraining's f1: 0.756357\tvalid_1's binary_logloss: 0.0625875\tvalid_1's f1: 0.748091\n",
      "[10]\ttraining's binary_logloss: 0.0564992\ttraining's f1: 0.759917\tvalid_1's binary_logloss: 0.0602737\tvalid_1's f1: 0.751143\n",
      "[11]\ttraining's binary_logloss: 0.0542506\ttraining's f1: 0.76473\tvalid_1's binary_logloss: 0.0581533\tvalid_1's f1: 0.75495\n",
      "[12]\ttraining's binary_logloss: 0.0524049\ttraining's f1: 0.768453\tvalid_1's binary_logloss: 0.0563831\tvalid_1's f1: 0.758387\n",
      "[13]\ttraining's binary_logloss: 0.0506329\ttraining's f1: 0.772767\tvalid_1's binary_logloss: 0.0546892\tvalid_1's f1: 0.761956\n",
      "[14]\ttraining's binary_logloss: 0.0488613\ttraining's f1: 0.776821\tvalid_1's binary_logloss: 0.0530422\tvalid_1's f1: 0.765766\n",
      "[15]\ttraining's binary_logloss: 0.0473886\ttraining's f1: 0.780349\tvalid_1's binary_logloss: 0.0516531\tvalid_1's f1: 0.769169\n",
      "[16]\ttraining's binary_logloss: 0.0458807\ttraining's f1: 0.784616\tvalid_1's binary_logloss: 0.0502047\tvalid_1's f1: 0.772226\n",
      "[17]\ttraining's binary_logloss: 0.0444809\ttraining's f1: 0.789236\tvalid_1's binary_logloss: 0.0489205\tvalid_1's f1: 0.776121\n",
      "[18]\ttraining's binary_logloss: 0.0431393\ttraining's f1: 0.793918\tvalid_1's binary_logloss: 0.0476682\tvalid_1's f1: 0.780065\n",
      "[19]\ttraining's binary_logloss: 0.041914\ttraining's f1: 0.798257\tvalid_1's binary_logloss: 0.0465257\tvalid_1's f1: 0.783736\n",
      "[20]\ttraining's binary_logloss: 0.0407702\ttraining's f1: 0.802178\tvalid_1's binary_logloss: 0.0454567\tvalid_1's f1: 0.786688\n",
      "[21]\ttraining's binary_logloss: 0.0394551\ttraining's f1: 0.806587\tvalid_1's binary_logloss: 0.0442296\tvalid_1's f1: 0.789935\n",
      "[22]\ttraining's binary_logloss: 0.0382082\ttraining's f1: 0.810921\tvalid_1's binary_logloss: 0.043035\tvalid_1's f1: 0.794176\n",
      "[23]\ttraining's binary_logloss: 0.0371684\ttraining's f1: 0.814523\tvalid_1's binary_logloss: 0.0420651\tvalid_1's f1: 0.79693\n",
      "[24]\ttraining's binary_logloss: 0.0362354\ttraining's f1: 0.818498\tvalid_1's binary_logloss: 0.0411762\tvalid_1's f1: 0.800673\n",
      "[25]\ttraining's binary_logloss: 0.0351249\ttraining's f1: 0.822278\tvalid_1's binary_logloss: 0.0401496\tvalid_1's f1: 0.804246\n",
      "[26]\ttraining's binary_logloss: 0.0341426\ttraining's f1: 0.825982\tvalid_1's binary_logloss: 0.0392254\tvalid_1's f1: 0.80766\n",
      "[27]\ttraining's binary_logloss: 0.0330837\ttraining's f1: 0.829846\tvalid_1's binary_logloss: 0.038224\tvalid_1's f1: 0.811072\n",
      "[28]\ttraining's binary_logloss: 0.0322415\ttraining's f1: 0.83314\tvalid_1's binary_logloss: 0.0374267\tvalid_1's f1: 0.813905\n",
      "[29]\ttraining's binary_logloss: 0.0313712\ttraining's f1: 0.836597\tvalid_1's binary_logloss: 0.0366161\tvalid_1's f1: 0.816618\n",
      "[30]\ttraining's binary_logloss: 0.0305837\ttraining's f1: 0.839749\tvalid_1's binary_logloss: 0.0358999\tvalid_1's f1: 0.818886\n",
      "[31]\ttraining's binary_logloss: 0.0298308\ttraining's f1: 0.843271\tvalid_1's binary_logloss: 0.035208\tvalid_1's f1: 0.821119\n",
      "[32]\ttraining's binary_logloss: 0.0290226\ttraining's f1: 0.846419\tvalid_1's binary_logloss: 0.0344922\tvalid_1's f1: 0.824135\n",
      "[33]\ttraining's binary_logloss: 0.0283173\ttraining's f1: 0.849429\tvalid_1's binary_logloss: 0.0338401\tvalid_1's f1: 0.827158\n",
      "[34]\ttraining's binary_logloss: 0.0276232\ttraining's f1: 0.852108\tvalid_1's binary_logloss: 0.0331996\tvalid_1's f1: 0.829767\n",
      "[35]\ttraining's binary_logloss: 0.0270395\ttraining's f1: 0.854611\tvalid_1's binary_logloss: 0.0326758\tvalid_1's f1: 0.832441\n",
      "[36]\ttraining's binary_logloss: 0.0264217\ttraining's f1: 0.857192\tvalid_1's binary_logloss: 0.0321359\tvalid_1's f1: 0.834338\n",
      "[37]\ttraining's binary_logloss: 0.0258677\ttraining's f1: 0.85921\tvalid_1's binary_logloss: 0.0316242\tvalid_1's f1: 0.836423\n",
      "[38]\ttraining's binary_logloss: 0.0251986\ttraining's f1: 0.861604\tvalid_1's binary_logloss: 0.0310428\tvalid_1's f1: 0.838801\n",
      "[39]\ttraining's binary_logloss: 0.0245984\ttraining's f1: 0.864525\tvalid_1's binary_logloss: 0.030512\tvalid_1's f1: 0.84099\n",
      "[40]\ttraining's binary_logloss: 0.0240144\ttraining's f1: 0.867253\tvalid_1's binary_logloss: 0.0299702\tvalid_1's f1: 0.84324\n",
      "[41]\ttraining's binary_logloss: 0.023434\ttraining's f1: 0.869639\tvalid_1's binary_logloss: 0.029455\tvalid_1's f1: 0.845274\n",
      "[42]\ttraining's binary_logloss: 0.0229622\ttraining's f1: 0.871689\tvalid_1's binary_logloss: 0.0290352\tvalid_1's f1: 0.846915\n",
      "[43]\ttraining's binary_logloss: 0.0224482\ttraining's f1: 0.87377\tvalid_1's binary_logloss: 0.0285844\tvalid_1's f1: 0.84897\n",
      "[44]\ttraining's binary_logloss: 0.0219452\ttraining's f1: 0.876046\tvalid_1's binary_logloss: 0.0281359\tvalid_1's f1: 0.850623\n",
      "[45]\ttraining's binary_logloss: 0.0214616\ttraining's f1: 0.878222\tvalid_1's binary_logloss: 0.02771\tvalid_1's f1: 0.852631\n",
      "[46]\ttraining's binary_logloss: 0.0210393\ttraining's f1: 0.880021\tvalid_1's binary_logloss: 0.0273387\tvalid_1's f1: 0.854197\n",
      "[47]\ttraining's binary_logloss: 0.0205703\ttraining's f1: 0.881925\tvalid_1's binary_logloss: 0.0269637\tvalid_1's f1: 0.855599\n",
      "[48]\ttraining's binary_logloss: 0.0201467\ttraining's f1: 0.883967\tvalid_1's binary_logloss: 0.0266032\tvalid_1's f1: 0.857557\n",
      "[49]\ttraining's binary_logloss: 0.0196817\ttraining's f1: 0.88611\tvalid_1's binary_logloss: 0.0262245\tvalid_1's f1: 0.859182\n",
      "[50]\ttraining's binary_logloss: 0.01932\ttraining's f1: 0.887586\tvalid_1's binary_logloss: 0.0259188\tvalid_1's f1: 0.861219\n",
      "[51]\ttraining's binary_logloss: 0.0189113\ttraining's f1: 0.889532\tvalid_1's binary_logloss: 0.0255484\tvalid_1's f1: 0.862505\n",
      "[52]\ttraining's binary_logloss: 0.0185432\ttraining's f1: 0.891332\tvalid_1's binary_logloss: 0.0252434\tvalid_1's f1: 0.863651\n",
      "[53]\ttraining's binary_logloss: 0.0181241\ttraining's f1: 0.893199\tvalid_1's binary_logloss: 0.0248446\tvalid_1's f1: 0.865429\n",
      "[54]\ttraining's binary_logloss: 0.017743\ttraining's f1: 0.894811\tvalid_1's binary_logloss: 0.0245327\tvalid_1's f1: 0.866784\n",
      "[55]\ttraining's binary_logloss: 0.0174091\ttraining's f1: 0.896244\tvalid_1's binary_logloss: 0.0242655\tvalid_1's f1: 0.868355\n",
      "[56]\ttraining's binary_logloss: 0.0170525\ttraining's f1: 0.89804\tvalid_1's binary_logloss: 0.0239579\tvalid_1's f1: 0.870029\n",
      "[57]\ttraining's binary_logloss: 0.0167027\ttraining's f1: 0.899743\tvalid_1's binary_logloss: 0.0236989\tvalid_1's f1: 0.871039\n",
      "[58]\ttraining's binary_logloss: 0.016381\ttraining's f1: 0.901374\tvalid_1's binary_logloss: 0.0234415\tvalid_1's f1: 0.872233\n",
      "[59]\ttraining's binary_logloss: 0.0161021\ttraining's f1: 0.902635\tvalid_1's binary_logloss: 0.0232251\tvalid_1's f1: 0.873536\n",
      "[60]\ttraining's binary_logloss: 0.0158055\ttraining's f1: 0.904233\tvalid_1's binary_logloss: 0.0229718\tvalid_1's f1: 0.874905\n",
      "[61]\ttraining's binary_logloss: 0.0155019\ttraining's f1: 0.905777\tvalid_1's binary_logloss: 0.0227215\tvalid_1's f1: 0.875731\n",
      "[62]\ttraining's binary_logloss: 0.0152072\ttraining's f1: 0.907143\tvalid_1's binary_logloss: 0.0224739\tvalid_1's f1: 0.876918\n",
      "[63]\ttraining's binary_logloss: 0.0148918\ttraining's f1: 0.908608\tvalid_1's binary_logloss: 0.0222322\tvalid_1's f1: 0.878147\n",
      "[64]\ttraining's binary_logloss: 0.0146036\ttraining's f1: 0.909992\tvalid_1's binary_logloss: 0.0219798\tvalid_1's f1: 0.879554\n",
      "[65]\ttraining's binary_logloss: 0.0143451\ttraining's f1: 0.911521\tvalid_1's binary_logloss: 0.0217612\tvalid_1's f1: 0.88068\n",
      "[66]\ttraining's binary_logloss: 0.0140842\ttraining's f1: 0.91289\tvalid_1's binary_logloss: 0.0215616\tvalid_1's f1: 0.882162\n"
     ]
    },
    {
     "name": "stdout",
     "output_type": "stream",
     "text": [
      "[67]\ttraining's binary_logloss: 0.013831\ttraining's f1: 0.914164\tvalid_1's binary_logloss: 0.0213764\tvalid_1's f1: 0.883421\n",
      "[68]\ttraining's binary_logloss: 0.0135825\ttraining's f1: 0.915608\tvalid_1's binary_logloss: 0.0211773\tvalid_1's f1: 0.884059\n",
      "[69]\ttraining's binary_logloss: 0.0133042\ttraining's f1: 0.91698\tvalid_1's binary_logloss: 0.0209701\tvalid_1's f1: 0.884927\n",
      "[70]\ttraining's binary_logloss: 0.013048\ttraining's f1: 0.918571\tvalid_1's binary_logloss: 0.0207648\tvalid_1's f1: 0.886422\n",
      "[71]\ttraining's binary_logloss: 0.0128093\ttraining's f1: 0.920056\tvalid_1's binary_logloss: 0.0205833\tvalid_1's f1: 0.887493\n",
      "[72]\ttraining's binary_logloss: 0.0125994\ttraining's f1: 0.921052\tvalid_1's binary_logloss: 0.0204155\tvalid_1's f1: 0.888115\n",
      "[73]\ttraining's binary_logloss: 0.0123913\ttraining's f1: 0.922088\tvalid_1's binary_logloss: 0.0202417\tvalid_1's f1: 0.888887\n",
      "[74]\ttraining's binary_logloss: 0.0121515\ttraining's f1: 0.923321\tvalid_1's binary_logloss: 0.0200447\tvalid_1's f1: 0.889518\n",
      "[75]\ttraining's binary_logloss: 0.0119555\ttraining's f1: 0.924465\tvalid_1's binary_logloss: 0.0199233\tvalid_1's f1: 0.889955\n",
      "[76]\ttraining's binary_logloss: 0.0117243\ttraining's f1: 0.925723\tvalid_1's binary_logloss: 0.01973\tvalid_1's f1: 0.890949\n",
      "[77]\ttraining's binary_logloss: 0.0115166\ttraining's f1: 0.926794\tvalid_1's binary_logloss: 0.0195784\tvalid_1's f1: 0.891491\n",
      "[78]\ttraining's binary_logloss: 0.011298\ttraining's f1: 0.928053\tvalid_1's binary_logloss: 0.0193876\tvalid_1's f1: 0.892425\n",
      "[79]\ttraining's binary_logloss: 0.0110963\ttraining's f1: 0.929567\tvalid_1's binary_logloss: 0.0192246\tvalid_1's f1: 0.892999\n",
      "[80]\ttraining's binary_logloss: 0.0109151\ttraining's f1: 0.930755\tvalid_1's binary_logloss: 0.0190878\tvalid_1's f1: 0.893676\n",
      "[81]\ttraining's binary_logloss: 0.0107127\ttraining's f1: 0.931314\tvalid_1's binary_logloss: 0.0189461\tvalid_1's f1: 0.894141\n",
      "[82]\ttraining's binary_logloss: 0.0105433\ttraining's f1: 0.932662\tvalid_1's binary_logloss: 0.0188243\tvalid_1's f1: 0.895193\n",
      "[83]\ttraining's binary_logloss: 0.0103595\ttraining's f1: 0.933704\tvalid_1's binary_logloss: 0.0186682\tvalid_1's f1: 0.896334\n",
      "[84]\ttraining's binary_logloss: 0.0102065\ttraining's f1: 0.934801\tvalid_1's binary_logloss: 0.0185659\tvalid_1's f1: 0.897076\n",
      "[85]\ttraining's binary_logloss: 0.0100387\ttraining's f1: 0.935763\tvalid_1's binary_logloss: 0.0184382\tvalid_1's f1: 0.897684\n",
      "[86]\ttraining's binary_logloss: 0.00987893\ttraining's f1: 0.936666\tvalid_1's binary_logloss: 0.0183048\tvalid_1's f1: 0.898058\n",
      "[87]\ttraining's binary_logloss: 0.00974687\ttraining's f1: 0.937406\tvalid_1's binary_logloss: 0.0182223\tvalid_1's f1: 0.898431\n",
      "[88]\ttraining's binary_logloss: 0.00958738\ttraining's f1: 0.938406\tvalid_1's binary_logloss: 0.018092\tvalid_1's f1: 0.899249\n",
      "[89]\ttraining's binary_logloss: 0.00943883\ttraining's f1: 0.939126\tvalid_1's binary_logloss: 0.0179868\tvalid_1's f1: 0.899865\n",
      "[90]\ttraining's binary_logloss: 0.00928275\ttraining's f1: 0.940288\tvalid_1's binary_logloss: 0.0178679\tvalid_1's f1: 0.900828\n",
      "[91]\ttraining's binary_logloss: 0.00912396\ttraining's f1: 0.941118\tvalid_1's binary_logloss: 0.0177498\tvalid_1's f1: 0.901275\n",
      "[92]\ttraining's binary_logloss: 0.00898159\ttraining's f1: 0.941938\tvalid_1's binary_logloss: 0.0176514\tvalid_1's f1: 0.90155\n",
      "[93]\ttraining's binary_logloss: 0.00882492\ttraining's f1: 0.942932\tvalid_1's binary_logloss: 0.0175339\tvalid_1's f1: 0.902366\n",
      "[94]\ttraining's binary_logloss: 0.00866422\ttraining's f1: 0.944008\tvalid_1's binary_logloss: 0.0174017\tvalid_1's f1: 0.902871\n",
      "[95]\ttraining's binary_logloss: 0.00852822\ttraining's f1: 0.944733\tvalid_1's binary_logloss: 0.0173036\tvalid_1's f1: 0.90383\n",
      "[96]\ttraining's binary_logloss: 0.00839448\ttraining's f1: 0.945394\tvalid_1's binary_logloss: 0.0172193\tvalid_1's f1: 0.904113\n",
      "[97]\ttraining's binary_logloss: 0.00825793\ttraining's f1: 0.946442\tvalid_1's binary_logloss: 0.0171107\tvalid_1's f1: 0.904272\n",
      "[98]\ttraining's binary_logloss: 0.00814378\ttraining's f1: 0.947295\tvalid_1's binary_logloss: 0.0170344\tvalid_1's f1: 0.905127\n",
      "[99]\ttraining's binary_logloss: 0.0080312\ttraining's f1: 0.948298\tvalid_1's binary_logloss: 0.0169636\tvalid_1's f1: 0.90576\n",
      "[100]\ttraining's binary_logloss: 0.00789641\ttraining's f1: 0.949171\tvalid_1's binary_logloss: 0.0168656\tvalid_1's f1: 0.90585\n",
      "[101]\ttraining's binary_logloss: 0.00776565\ttraining's f1: 0.949993\tvalid_1's binary_logloss: 0.0167562\tvalid_1's f1: 0.906282\n",
      "[102]\ttraining's binary_logloss: 0.00767181\ttraining's f1: 0.950737\tvalid_1's binary_logloss: 0.0167121\tvalid_1's f1: 0.906589\n",
      "[103]\ttraining's binary_logloss: 0.00754902\ttraining's f1: 0.95151\tvalid_1's binary_logloss: 0.0166205\tvalid_1's f1: 0.907366\n",
      "[104]\ttraining's binary_logloss: 0.00742886\ttraining's f1: 0.952382\tvalid_1's binary_logloss: 0.0165343\tvalid_1's f1: 0.907967\n",
      "[105]\ttraining's binary_logloss: 0.00733172\ttraining's f1: 0.952942\tvalid_1's binary_logloss: 0.0164991\tvalid_1's f1: 0.908058\n",
      "[106]\ttraining's binary_logloss: 0.00722239\ttraining's f1: 0.953709\tvalid_1's binary_logloss: 0.0164231\tvalid_1's f1: 0.908262\n",
      "[107]\ttraining's binary_logloss: 0.00712474\ttraining's f1: 0.954231\tvalid_1's binary_logloss: 0.016378\tvalid_1's f1: 0.908108\n",
      "[108]\ttraining's binary_logloss: 0.00701311\ttraining's f1: 0.955099\tvalid_1's binary_logloss: 0.0162959\tvalid_1's f1: 0.908506\n",
      "[109]\ttraining's binary_logloss: 0.00690887\ttraining's f1: 0.955845\tvalid_1's binary_logloss: 0.0162105\tvalid_1's f1: 0.909511\n",
      "[110]\ttraining's binary_logloss: 0.00681164\ttraining's f1: 0.956344\tvalid_1's binary_logloss: 0.0161448\tvalid_1's f1: 0.909979\n",
      "[111]\ttraining's binary_logloss: 0.00670608\ttraining's f1: 0.957178\tvalid_1's binary_logloss: 0.0160731\tvalid_1's f1: 0.910548\n",
      "[112]\ttraining's binary_logloss: 0.00661931\ttraining's f1: 0.957945\tvalid_1's binary_logloss: 0.0160104\tvalid_1's f1: 0.910729\n",
      "[113]\ttraining's binary_logloss: 0.00654288\ttraining's f1: 0.958406\tvalid_1's binary_logloss: 0.0159612\tvalid_1's f1: 0.910952\n",
      "[114]\ttraining's binary_logloss: 0.00644713\ttraining's f1: 0.959065\tvalid_1's binary_logloss: 0.0158918\tvalid_1's f1: 0.911366\n",
      "[115]\ttraining's binary_logloss: 0.00633613\ttraining's f1: 0.959796\tvalid_1's binary_logloss: 0.0158071\tvalid_1's f1: 0.911824\n",
      "[116]\ttraining's binary_logloss: 0.00623196\ttraining's f1: 0.960543\tvalid_1's binary_logloss: 0.0157371\tvalid_1's f1: 0.912334\n",
      "[117]\ttraining's binary_logloss: 0.00616227\ttraining's f1: 0.961009\tvalid_1's binary_logloss: 0.0157054\tvalid_1's f1: 0.912223\n",
      "[118]\ttraining's binary_logloss: 0.0060885\ttraining's f1: 0.961633\tvalid_1's binary_logloss: 0.0156669\tvalid_1's f1: 0.912449\n",
      "[119]\ttraining's binary_logloss: 0.00600903\ttraining's f1: 0.962229\tvalid_1's binary_logloss: 0.0156182\tvalid_1's f1: 0.9128\n",
      "[120]\ttraining's binary_logloss: 0.00591313\ttraining's f1: 0.963198\tvalid_1's binary_logloss: 0.0155364\tvalid_1's f1: 0.913357\n",
      "[121]\ttraining's binary_logloss: 0.00582116\ttraining's f1: 0.963999\tvalid_1's binary_logloss: 0.0154639\tvalid_1's f1: 0.913666\n",
      "[122]\ttraining's binary_logloss: 0.00573479\ttraining's f1: 0.964645\tvalid_1's binary_logloss: 0.0154103\tvalid_1's f1: 0.913665\n",
      "[123]\ttraining's binary_logloss: 0.00565977\ttraining's f1: 0.965264\tvalid_1's binary_logloss: 0.0153585\tvalid_1's f1: 0.914159\n",
      "[124]\ttraining's binary_logloss: 0.00558992\ttraining's f1: 0.965667\tvalid_1's binary_logloss: 0.0153146\tvalid_1's f1: 0.914469\n",
      "[125]\ttraining's binary_logloss: 0.00551806\ttraining's f1: 0.966245\tvalid_1's binary_logloss: 0.0152693\tvalid_1's f1: 0.914862\n",
      "[126]\ttraining's binary_logloss: 0.00543583\ttraining's f1: 0.966984\tvalid_1's binary_logloss: 0.0152095\tvalid_1's f1: 0.915403\n",
      "[127]\ttraining's binary_logloss: 0.00536034\ttraining's f1: 0.967448\tvalid_1's binary_logloss: 0.0151584\tvalid_1's f1: 0.915529\n",
      "[128]\ttraining's binary_logloss: 0.00529024\ttraining's f1: 0.96787\tvalid_1's binary_logloss: 0.0151076\tvalid_1's f1: 0.915537\n",
      "[129]\ttraining's binary_logloss: 0.00522194\ttraining's f1: 0.96841\tvalid_1's binary_logloss: 0.0150541\tvalid_1's f1: 0.916109\n",
      "[130]\ttraining's binary_logloss: 0.0051445\ttraining's f1: 0.969082\tvalid_1's binary_logloss: 0.0150082\tvalid_1's f1: 0.916603\n",
      "[131]\ttraining's binary_logloss: 0.0050786\ttraining's f1: 0.969492\tvalid_1's binary_logloss: 0.014966\tvalid_1's f1: 0.916962\n",
      "[132]\ttraining's binary_logloss: 0.00499175\ttraining's f1: 0.970241\tvalid_1's binary_logloss: 0.0149037\tvalid_1's f1: 0.917069\n"
     ]
    },
    {
     "name": "stdout",
     "output_type": "stream",
     "text": [
      "[133]\ttraining's binary_logloss: 0.00492632\ttraining's f1: 0.970594\tvalid_1's binary_logloss: 0.0148595\tvalid_1's f1: 0.917444\n",
      "[134]\ttraining's binary_logloss: 0.00486274\ttraining's f1: 0.971006\tvalid_1's binary_logloss: 0.0148282\tvalid_1's f1: 0.917819\n",
      "[135]\ttraining's binary_logloss: 0.00480533\ttraining's f1: 0.971464\tvalid_1's binary_logloss: 0.014793\tvalid_1's f1: 0.917842\n",
      "[136]\ttraining's binary_logloss: 0.00475514\ttraining's f1: 0.971922\tvalid_1's binary_logloss: 0.0147656\tvalid_1's f1: 0.918129\n",
      "[137]\ttraining's binary_logloss: 0.00467471\ttraining's f1: 0.972515\tvalid_1's binary_logloss: 0.0147058\tvalid_1's f1: 0.91812\n",
      "[138]\ttraining's binary_logloss: 0.00460474\ttraining's f1: 0.972812\tvalid_1's binary_logloss: 0.0146624\tvalid_1's f1: 0.918657\n",
      "[139]\ttraining's binary_logloss: 0.00455326\ttraining's f1: 0.973184\tvalid_1's binary_logloss: 0.0146344\tvalid_1's f1: 0.918699\n",
      "[140]\ttraining's binary_logloss: 0.00449239\ttraining's f1: 0.973437\tvalid_1's binary_logloss: 0.0145846\tvalid_1's f1: 0.919277\n",
      "[141]\ttraining's binary_logloss: 0.00444388\ttraining's f1: 0.973974\tvalid_1's binary_logloss: 0.0145604\tvalid_1's f1: 0.91949\n",
      "[142]\ttraining's binary_logloss: 0.00437567\ttraining's f1: 0.974378\tvalid_1's binary_logloss: 0.0145102\tvalid_1's f1: 0.919438\n",
      "[143]\ttraining's binary_logloss: 0.00431435\ttraining's f1: 0.974917\tvalid_1's binary_logloss: 0.0144683\tvalid_1's f1: 0.919838\n",
      "[144]\ttraining's binary_logloss: 0.00426157\ttraining's f1: 0.975457\tvalid_1's binary_logloss: 0.0144552\tvalid_1's f1: 0.919914\n",
      "[145]\ttraining's binary_logloss: 0.0042093\ttraining's f1: 0.975833\tvalid_1's binary_logloss: 0.014409\tvalid_1's f1: 0.920371\n",
      "[146]\ttraining's binary_logloss: 0.00415494\ttraining's f1: 0.97636\tvalid_1's binary_logloss: 0.014372\tvalid_1's f1: 0.920538\n",
      "[147]\ttraining's binary_logloss: 0.00408108\ttraining's f1: 0.976933\tvalid_1's binary_logloss: 0.0143272\tvalid_1's f1: 0.920639\n",
      "[148]\ttraining's binary_logloss: 0.00402576\ttraining's f1: 0.977236\tvalid_1's binary_logloss: 0.0142924\tvalid_1's f1: 0.920885\n",
      "[149]\ttraining's binary_logloss: 0.00397039\ttraining's f1: 0.977751\tvalid_1's binary_logloss: 0.0142538\tvalid_1's f1: 0.921368\n",
      "[150]\ttraining's binary_logloss: 0.00392753\ttraining's f1: 0.978054\tvalid_1's binary_logloss: 0.0142275\tvalid_1's f1: 0.921598\n",
      "[151]\ttraining's binary_logloss: 0.00388412\ttraining's f1: 0.978373\tvalid_1's binary_logloss: 0.0141972\tvalid_1's f1: 0.922344\n",
      "[152]\ttraining's binary_logloss: 0.00383218\ttraining's f1: 0.97889\tvalid_1's binary_logloss: 0.0141548\tvalid_1's f1: 0.922446\n",
      "[153]\ttraining's binary_logloss: 0.00378168\ttraining's f1: 0.979195\tvalid_1's binary_logloss: 0.0141286\tvalid_1's f1: 0.922559\n",
      "[154]\ttraining's binary_logloss: 0.00374007\ttraining's f1: 0.97947\tvalid_1's binary_logloss: 0.0141109\tvalid_1's f1: 0.922649\n",
      "[155]\ttraining's binary_logloss: 0.00369128\ttraining's f1: 0.979959\tvalid_1's binary_logloss: 0.0140788\tvalid_1's f1: 0.922713\n",
      "[156]\ttraining's binary_logloss: 0.00364799\ttraining's f1: 0.980173\tvalid_1's binary_logloss: 0.0140559\tvalid_1's f1: 0.922493\n",
      "[157]\ttraining's binary_logloss: 0.00360297\ttraining's f1: 0.980495\tvalid_1's binary_logloss: 0.0140252\tvalid_1's f1: 0.922928\n",
      "[158]\ttraining's binary_logloss: 0.00355779\ttraining's f1: 0.980925\tvalid_1's binary_logloss: 0.0140102\tvalid_1's f1: 0.922967\n",
      "[159]\ttraining's binary_logloss: 0.00350052\ttraining's f1: 0.981463\tvalid_1's binary_logloss: 0.013968\tvalid_1's f1: 0.923274\n",
      "[160]\ttraining's binary_logloss: 0.00345247\ttraining's f1: 0.981509\tvalid_1's binary_logloss: 0.0139449\tvalid_1's f1: 0.923648\n",
      "[161]\ttraining's binary_logloss: 0.00339441\ttraining's f1: 0.981925\tvalid_1's binary_logloss: 0.0138925\tvalid_1's f1: 0.923778\n",
      "[162]\ttraining's binary_logloss: 0.00335779\ttraining's f1: 0.982172\tvalid_1's binary_logloss: 0.0138708\tvalid_1's f1: 0.923894\n",
      "[163]\ttraining's binary_logloss: 0.00330747\ttraining's f1: 0.982573\tvalid_1's binary_logloss: 0.0138346\tvalid_1's f1: 0.924191\n",
      "[164]\ttraining's binary_logloss: 0.00326556\ttraining's f1: 0.983007\tvalid_1's binary_logloss: 0.0138171\tvalid_1's f1: 0.924009\n",
      "[165]\ttraining's binary_logloss: 0.00323259\ttraining's f1: 0.983441\tvalid_1's binary_logloss: 0.0138002\tvalid_1's f1: 0.924009\n",
      "[166]\ttraining's binary_logloss: 0.00318337\ttraining's f1: 0.983829\tvalid_1's binary_logloss: 0.0137625\tvalid_1's f1: 0.924371\n",
      "[167]\ttraining's binary_logloss: 0.00313871\ttraining's f1: 0.984249\tvalid_1's binary_logloss: 0.0137383\tvalid_1's f1: 0.9245\n",
      "[168]\ttraining's binary_logloss: 0.00310493\ttraining's f1: 0.98456\tvalid_1's binary_logloss: 0.0137276\tvalid_1's f1: 0.924682\n",
      "[169]\ttraining's binary_logloss: 0.00306608\ttraining's f1: 0.98495\tvalid_1's binary_logloss: 0.0137062\tvalid_1's f1: 0.92476\n",
      "[170]\ttraining's binary_logloss: 0.00302631\ttraining's f1: 0.985216\tvalid_1's binary_logloss: 0.0136856\tvalid_1's f1: 0.924982\n",
      "[171]\ttraining's binary_logloss: 0.00298496\ttraining's f1: 0.985372\tvalid_1's binary_logloss: 0.0136635\tvalid_1's f1: 0.925125\n",
      "[172]\ttraining's binary_logloss: 0.00295005\ttraining's f1: 0.985685\tvalid_1's binary_logloss: 0.0136525\tvalid_1's f1: 0.925202\n",
      "[173]\ttraining's binary_logloss: 0.002912\ttraining's f1: 0.985951\tvalid_1's binary_logloss: 0.0136377\tvalid_1's f1: 0.925437\n",
      "[174]\ttraining's binary_logloss: 0.00287283\ttraining's f1: 0.986233\tvalid_1's binary_logloss: 0.0136124\tvalid_1's f1: 0.925515\n",
      "[175]\ttraining's binary_logloss: 0.0028261\ttraining's f1: 0.986626\tvalid_1's binary_logloss: 0.0135793\tvalid_1's f1: 0.925723\n",
      "[176]\ttraining's binary_logloss: 0.0027891\ttraining's f1: 0.986909\tvalid_1's binary_logloss: 0.013545\tvalid_1's f1: 0.926129\n",
      "[177]\ttraining's binary_logloss: 0.00275668\ttraining's f1: 0.987098\tvalid_1's binary_logloss: 0.0135246\tvalid_1's f1: 0.926482\n",
      "[178]\ttraining's binary_logloss: 0.00272067\ttraining's f1: 0.987444\tvalid_1's binary_logloss: 0.0135043\tvalid_1's f1: 0.926679\n",
      "[179]\ttraining's binary_logloss: 0.00268197\ttraining's f1: 0.987633\tvalid_1's binary_logloss: 0.0134872\tvalid_1's f1: 0.926666\n",
      "[180]\ttraining's binary_logloss: 0.00264071\ttraining's f1: 0.98806\tvalid_1's binary_logloss: 0.0134606\tvalid_1's f1: 0.926706\n",
      "[181]\ttraining's binary_logloss: 0.0026059\ttraining's f1: 0.988439\tvalid_1's binary_logloss: 0.0134407\tvalid_1's f1: 0.927113\n",
      "[182]\ttraining's binary_logloss: 0.00257436\ttraining's f1: 0.988819\tvalid_1's binary_logloss: 0.0134258\tvalid_1's f1: 0.927429\n",
      "[183]\ttraining's binary_logloss: 0.00253727\ttraining's f1: 0.989137\tvalid_1's binary_logloss: 0.0134098\tvalid_1's f1: 0.928086\n",
      "[184]\ttraining's binary_logloss: 0.00249564\ttraining's f1: 0.989454\tvalid_1's binary_logloss: 0.0133848\tvalid_1's f1: 0.927981\n",
      "[185]\ttraining's binary_logloss: 0.00247265\ttraining's f1: 0.989661\tvalid_1's binary_logloss: 0.0133782\tvalid_1's f1: 0.927837\n",
      "[186]\ttraining's binary_logloss: 0.00244205\ttraining's f1: 0.989868\tvalid_1's binary_logloss: 0.0133654\tvalid_1's f1: 0.927889\n",
      "[187]\ttraining's binary_logloss: 0.00241154\ttraining's f1: 0.990139\tvalid_1's binary_logloss: 0.0133412\tvalid_1's f1: 0.927889\n",
      "[188]\ttraining's binary_logloss: 0.00238946\ttraining's f1: 0.990314\tvalid_1's binary_logloss: 0.0133367\tvalid_1's f1: 0.927995\n",
      "[189]\ttraining's binary_logloss: 0.00235741\ttraining's f1: 0.990617\tvalid_1's binary_logloss: 0.013316\tvalid_1's f1: 0.928062\n",
      "[190]\ttraining's binary_logloss: 0.00232935\ttraining's f1: 0.990921\tvalid_1's binary_logloss: 0.0133072\tvalid_1's f1: 0.928299\n",
      "[191]\ttraining's binary_logloss: 0.00230166\ttraining's f1: 0.991112\tvalid_1's binary_logloss: 0.013293\tvalid_1's f1: 0.928287\n",
      "[192]\ttraining's binary_logloss: 0.00227461\ttraining's f1: 0.991353\tvalid_1's binary_logloss: 0.0132779\tvalid_1's f1: 0.928287\n",
      "[193]\ttraining's binary_logloss: 0.0022469\ttraining's f1: 0.991689\tvalid_1's binary_logloss: 0.0132667\tvalid_1's f1: 0.928261\n",
      "[194]\ttraining's binary_logloss: 0.00221569\ttraining's f1: 0.992074\tvalid_1's binary_logloss: 0.0132573\tvalid_1's f1: 0.928276\n",
      "[195]\ttraining's binary_logloss: 0.00219468\ttraining's f1: 0.992154\tvalid_1's binary_logloss: 0.0132524\tvalid_1's f1: 0.928515\n",
      "[196]\ttraining's binary_logloss: 0.00216149\ttraining's f1: 0.992347\tvalid_1's binary_logloss: 0.0132403\tvalid_1's f1: 0.928502\n",
      "[197]\ttraining's binary_logloss: 0.00213339\ttraining's f1: 0.992524\tvalid_1's binary_logloss: 0.0132312\tvalid_1's f1: 0.928529\n"
     ]
    },
    {
     "name": "stdout",
     "output_type": "stream",
     "text": [
      "[198]\ttraining's binary_logloss: 0.00210882\ttraining's f1: 0.992798\tvalid_1's binary_logloss: 0.0132223\tvalid_1's f1: 0.928385\n",
      "[199]\ttraining's binary_logloss: 0.00207784\ttraining's f1: 0.992975\tvalid_1's binary_logloss: 0.0132092\tvalid_1's f1: 0.928292\n",
      "[200]\ttraining's binary_logloss: 0.00205422\ttraining's f1: 0.993168\tvalid_1's binary_logloss: 0.013202\tvalid_1's f1: 0.928477\n",
      "[201]\ttraining's binary_logloss: 0.00202654\ttraining's f1: 0.99333\tvalid_1's binary_logloss: 0.0131907\tvalid_1's f1: 0.928491\n",
      "[202]\ttraining's binary_logloss: 0.00199742\ttraining's f1: 0.99341\tvalid_1's binary_logloss: 0.0131744\tvalid_1's f1: 0.928479\n",
      "[203]\ttraining's binary_logloss: 0.00197093\ttraining's f1: 0.993556\tvalid_1's binary_logloss: 0.01315\tvalid_1's f1: 0.9286\n",
      "[204]\ttraining's binary_logloss: 0.00195258\ttraining's f1: 0.993685\tvalid_1's binary_logloss: 0.013145\tvalid_1's f1: 0.928639\n",
      "[205]\ttraining's binary_logloss: 0.00192443\ttraining's f1: 0.993927\tvalid_1's binary_logloss: 0.0131273\tvalid_1's f1: 0.9286\n",
      "[206]\ttraining's binary_logloss: 0.00190165\ttraining's f1: 0.994041\tvalid_1's binary_logloss: 0.0131127\tvalid_1's f1: 0.928746\n",
      "[207]\ttraining's binary_logloss: 0.00188126\ttraining's f1: 0.994154\tvalid_1's binary_logloss: 0.0131045\tvalid_1's f1: 0.928773\n",
      "[208]\ttraining's binary_logloss: 0.0018552\ttraining's f1: 0.994202\tvalid_1's binary_logloss: 0.0130945\tvalid_1's f1: 0.92884\n",
      "[209]\ttraining's binary_logloss: 0.00183435\ttraining's f1: 0.9943\tvalid_1's binary_logloss: 0.0130891\tvalid_1's f1: 0.929\n",
      "[210]\ttraining's binary_logloss: 0.00180652\ttraining's f1: 0.994478\tvalid_1's binary_logloss: 0.0130677\tvalid_1's f1: 0.928989\n",
      "[211]\ttraining's binary_logloss: 0.00178581\ttraining's f1: 0.994689\tvalid_1's binary_logloss: 0.0130587\tvalid_1's f1: 0.929217\n",
      "[212]\ttraining's binary_logloss: 0.00176704\ttraining's f1: 0.994721\tvalid_1's binary_logloss: 0.0130505\tvalid_1's f1: 0.929482\n",
      "[213]\ttraining's binary_logloss: 0.00174654\ttraining's f1: 0.994867\tvalid_1's binary_logloss: 0.0130474\tvalid_1's f1: 0.929231\n",
      "[214]\ttraining's binary_logloss: 0.00172471\ttraining's f1: 0.994965\tvalid_1's binary_logloss: 0.0130363\tvalid_1's f1: 0.928872\n",
      "[215]\ttraining's binary_logloss: 0.00170209\ttraining's f1: 0.995192\tvalid_1's binary_logloss: 0.013034\tvalid_1's f1: 0.92902\n",
      "[216]\ttraining's binary_logloss: 0.00168279\ttraining's f1: 0.995225\tvalid_1's binary_logloss: 0.0130145\tvalid_1's f1: 0.929313\n",
      "[217]\ttraining's binary_logloss: 0.00166434\ttraining's f1: 0.995371\tvalid_1's binary_logloss: 0.0130021\tvalid_1's f1: 0.929806\n",
      "[218]\ttraining's binary_logloss: 0.00164007\ttraining's f1: 0.995404\tvalid_1's binary_logloss: 0.0129864\tvalid_1's f1: 0.930142\n",
      "[219]\ttraining's binary_logloss: 0.00162281\ttraining's f1: 0.995501\tvalid_1's binary_logloss: 0.0129838\tvalid_1's f1: 0.929901\n",
      "[220]\ttraining's binary_logloss: 0.00160468\ttraining's f1: 0.995599\tvalid_1's binary_logloss: 0.0129708\tvalid_1's f1: 0.929689\n",
      "[221]\ttraining's binary_logloss: 0.00158562\ttraining's f1: 0.995794\tvalid_1's binary_logloss: 0.012958\tvalid_1's f1: 0.92989\n",
      "[222]\ttraining's binary_logloss: 0.00156523\ttraining's f1: 0.996006\tvalid_1's binary_logloss: 0.0129528\tvalid_1's f1: 0.929878\n",
      "[223]\ttraining's binary_logloss: 0.00154652\ttraining's f1: 0.996186\tvalid_1's binary_logloss: 0.0129403\tvalid_1's f1: 0.930132\n",
      "[224]\ttraining's binary_logloss: 0.00152398\ttraining's f1: 0.996235\tvalid_1's binary_logloss: 0.0129264\tvalid_1's f1: 0.9302\n",
      "[225]\ttraining's binary_logloss: 0.00150636\ttraining's f1: 0.996316\tvalid_1's binary_logloss: 0.0129105\tvalid_1's f1: 0.930215\n",
      "[226]\ttraining's binary_logloss: 0.00148393\ttraining's f1: 0.996512\tvalid_1's binary_logloss: 0.0128914\tvalid_1's f1: 0.930563\n",
      "[227]\ttraining's binary_logloss: 0.00146971\ttraining's f1: 0.996561\tvalid_1's binary_logloss: 0.012892\tvalid_1's f1: 0.93051\n",
      "[228]\ttraining's binary_logloss: 0.00144845\ttraining's f1: 0.996725\tvalid_1's binary_logloss: 0.0128804\tvalid_1's f1: 0.930457\n",
      "[229]\ttraining's binary_logloss: 0.00143102\ttraining's f1: 0.996774\tvalid_1's binary_logloss: 0.0128704\tvalid_1's f1: 0.930351\n",
      "[230]\ttraining's binary_logloss: 0.00141243\ttraining's f1: 0.996872\tvalid_1's binary_logloss: 0.012868\tvalid_1's f1: 0.930379\n",
      "[231]\ttraining's binary_logloss: 0.00139597\ttraining's f1: 0.99697\tvalid_1's binary_logloss: 0.0128594\tvalid_1's f1: 0.93078\n",
      "[232]\ttraining's binary_logloss: 0.00137919\ttraining's f1: 0.997085\tvalid_1's binary_logloss: 0.0128548\tvalid_1's f1: 0.931007\n",
      "[233]\ttraining's binary_logloss: 0.00136545\ttraining's f1: 0.997134\tvalid_1's binary_logloss: 0.012853\tvalid_1's f1: 0.93097\n",
      "[234]\ttraining's binary_logloss: 0.00134743\ttraining's f1: 0.997199\tvalid_1's binary_logloss: 0.012841\tvalid_1's f1: 0.930998\n",
      "[235]\ttraining's binary_logloss: 0.00133164\ttraining's f1: 0.997249\tvalid_1's binary_logloss: 0.012832\tvalid_1's f1: 0.930876\n",
      "[236]\ttraining's binary_logloss: 0.0013191\ttraining's f1: 0.997265\tvalid_1's binary_logloss: 0.0128294\tvalid_1's f1: 0.931091\n",
      "[237]\ttraining's binary_logloss: 0.00130207\ttraining's f1: 0.997331\tvalid_1's binary_logloss: 0.012813\tvalid_1's f1: 0.931132\n",
      "[238]\ttraining's binary_logloss: 0.0012854\ttraining's f1: 0.997445\tvalid_1's binary_logloss: 0.0127999\tvalid_1's f1: 0.931294\n",
      "[239]\ttraining's binary_logloss: 0.00126896\ttraining's f1: 0.997445\tvalid_1's binary_logloss: 0.0127883\tvalid_1's f1: 0.931281\n",
      "[240]\ttraining's binary_logloss: 0.00125122\ttraining's f1: 0.997593\tvalid_1's binary_logloss: 0.0127723\tvalid_1's f1: 0.931459\n",
      "[241]\ttraining's binary_logloss: 0.00123435\ttraining's f1: 0.997642\tvalid_1's binary_logloss: 0.0127672\tvalid_1's f1: 0.931325\n",
      "[242]\ttraining's binary_logloss: 0.00121776\ttraining's f1: 0.997691\tvalid_1's binary_logloss: 0.0127587\tvalid_1's f1: 0.931687\n",
      "[243]\ttraining's binary_logloss: 0.00120222\ttraining's f1: 0.997724\tvalid_1's binary_logloss: 0.0127471\tvalid_1's f1: 0.931878\n",
      "[244]\ttraining's binary_logloss: 0.00118904\ttraining's f1: 0.99779\tvalid_1's binary_logloss: 0.0127437\tvalid_1's f1: 0.931568\n",
      "[245]\ttraining's binary_logloss: 0.00117264\ttraining's f1: 0.99779\tvalid_1's binary_logloss: 0.0127269\tvalid_1's f1: 0.931703\n",
      "[246]\ttraining's binary_logloss: 0.00115918\ttraining's f1: 0.997938\tvalid_1's binary_logloss: 0.0127172\tvalid_1's f1: 0.931784\n",
      "[247]\ttraining's binary_logloss: 0.00114495\ttraining's f1: 0.997971\tvalid_1's binary_logloss: 0.012715\tvalid_1's f1: 0.932028\n",
      "[248]\ttraining's binary_logloss: 0.00113089\ttraining's f1: 0.998069\tvalid_1's binary_logloss: 0.0127084\tvalid_1's f1: 0.932166\n",
      "[249]\ttraining's binary_logloss: 0.00111564\ttraining's f1: 0.998168\tvalid_1's binary_logloss: 0.0127042\tvalid_1's f1: 0.932423\n",
      "[250]\ttraining's binary_logloss: 0.00110181\ttraining's f1: 0.998283\tvalid_1's binary_logloss: 0.0126948\tvalid_1's f1: 0.932382\n",
      "[251]\ttraining's binary_logloss: 0.00108695\ttraining's f1: 0.9983\tvalid_1's binary_logloss: 0.0126897\tvalid_1's f1: 0.932708\n",
      "[252]\ttraining's binary_logloss: 0.00107421\ttraining's f1: 0.998382\tvalid_1's binary_logloss: 0.012689\tvalid_1's f1: 0.932602\n",
      "[253]\ttraining's binary_logloss: 0.00106255\ttraining's f1: 0.998481\tvalid_1's binary_logloss: 0.0126829\tvalid_1's f1: 0.932561\n",
      "[254]\ttraining's binary_logloss: 0.00104986\ttraining's f1: 0.998497\tvalid_1's binary_logloss: 0.0126738\tvalid_1's f1: 0.932941\n",
      "[255]\ttraining's binary_logloss: 0.00103772\ttraining's f1: 0.998546\tvalid_1's binary_logloss: 0.0126712\tvalid_1's f1: 0.932847\n",
      "[256]\ttraining's binary_logloss: 0.0010254\ttraining's f1: 0.998662\tvalid_1's binary_logloss: 0.012669\tvalid_1's f1: 0.933011\n",
      "[257]\ttraining's binary_logloss: 0.00101335\ttraining's f1: 0.998678\tvalid_1's binary_logloss: 0.0126604\tvalid_1's f1: 0.932753\n",
      "[258]\ttraining's binary_logloss: 0.0010022\ttraining's f1: 0.998695\tvalid_1's binary_logloss: 0.01266\tvalid_1's f1: 0.932888\n",
      "[259]\ttraining's binary_logloss: 0.000989092\ttraining's f1: 0.998728\tvalid_1's binary_logloss: 0.0126486\tvalid_1's f1: 0.932986\n",
      "[260]\ttraining's binary_logloss: 0.000978403\ttraining's f1: 0.998761\tvalid_1's binary_logloss: 0.0126457\tvalid_1's f1: 0.933162\n",
      "[261]\ttraining's binary_logloss: 0.000967548\ttraining's f1: 0.99881\tvalid_1's binary_logloss: 0.0126419\tvalid_1's f1: 0.933015\n",
      "[262]\ttraining's binary_logloss: 0.000958318\ttraining's f1: 0.998843\tvalid_1's binary_logloss: 0.0126436\tvalid_1's f1: 0.932962\n"
     ]
    },
    {
     "name": "stdout",
     "output_type": "stream",
     "text": [
      "[263]\ttraining's binary_logloss: 0.00094747\ttraining's f1: 0.998843\tvalid_1's binary_logloss: 0.0126398\tvalid_1's f1: 0.932745\n",
      "[264]\ttraining's binary_logloss: 0.000936202\ttraining's f1: 0.99886\tvalid_1's binary_logloss: 0.0126304\tvalid_1's f1: 0.932855\n",
      "[265]\ttraining's binary_logloss: 0.000925893\ttraining's f1: 0.998909\tvalid_1's binary_logloss: 0.0126225\tvalid_1's f1: 0.933412\n",
      "[266]\ttraining's binary_logloss: 0.000916397\ttraining's f1: 0.998992\tvalid_1's binary_logloss: 0.0126143\tvalid_1's f1: 0.93333\n",
      "[267]\ttraining's binary_logloss: 0.000906848\ttraining's f1: 0.999041\tvalid_1's binary_logloss: 0.0126146\tvalid_1's f1: 0.933494\n",
      "[268]\ttraining's binary_logloss: 0.000896098\ttraining's f1: 0.999041\tvalid_1's binary_logloss: 0.0126038\tvalid_1's f1: 0.933823\n",
      "[269]\ttraining's binary_logloss: 0.000887163\ttraining's f1: 0.999074\tvalid_1's binary_logloss: 0.0126098\tvalid_1's f1: 0.933699\n",
      "[270]\ttraining's binary_logloss: 0.000876888\ttraining's f1: 0.999091\tvalid_1's binary_logloss: 0.0126045\tvalid_1's f1: 0.933622\n",
      "[271]\ttraining's binary_logloss: 0.000867437\ttraining's f1: 0.999107\tvalid_1's binary_logloss: 0.0126033\tvalid_1's f1: 0.933687\n",
      "[272]\ttraining's binary_logloss: 0.000856828\ttraining's f1: 0.999107\tvalid_1's binary_logloss: 0.0126002\tvalid_1's f1: 0.933564\n",
      "[273]\ttraining's binary_logloss: 0.00084657\ttraining's f1: 0.999124\tvalid_1's binary_logloss: 0.0125952\tvalid_1's f1: 0.933569\n",
      "[274]\ttraining's binary_logloss: 0.000836942\ttraining's f1: 0.999173\tvalid_1's binary_logloss: 0.0125915\tvalid_1's f1: 0.933597\n",
      "[275]\ttraining's binary_logloss: 0.000827664\ttraining's f1: 0.99919\tvalid_1's binary_logloss: 0.0125907\tvalid_1's f1: 0.933897\n",
      "[276]\ttraining's binary_logloss: 0.000817403\ttraining's f1: 0.999239\tvalid_1's binary_logloss: 0.0125785\tvalid_1's f1: 0.933873\n",
      "[277]\ttraining's binary_logloss: 0.000808441\ttraining's f1: 0.999223\tvalid_1's binary_logloss: 0.012578\tvalid_1's f1: 0.934001\n",
      "[278]\ttraining's binary_logloss: 0.000800655\ttraining's f1: 0.999223\tvalid_1's binary_logloss: 0.012576\tvalid_1's f1: 0.933771\n",
      "[279]\ttraining's binary_logloss: 0.000791395\ttraining's f1: 0.999289\tvalid_1's binary_logloss: 0.0125781\tvalid_1's f1: 0.933837\n",
      "[280]\ttraining's binary_logloss: 0.000783103\ttraining's f1: 0.999305\tvalid_1's binary_logloss: 0.0125717\tvalid_1's f1: 0.93403\n",
      "[281]\ttraining's binary_logloss: 0.000774238\ttraining's f1: 0.999322\tvalid_1's binary_logloss: 0.0125766\tvalid_1's f1: 0.934154\n",
      "[282]\ttraining's binary_logloss: 0.000764743\ttraining's f1: 0.999338\tvalid_1's binary_logloss: 0.0125695\tvalid_1's f1: 0.934261\n",
      "[283]\ttraining's binary_logloss: 0.000756687\ttraining's f1: 0.999355\tvalid_1's binary_logloss: 0.012573\tvalid_1's f1: 0.934261\n",
      "[284]\ttraining's binary_logloss: 0.000748222\ttraining's f1: 0.999355\tvalid_1's binary_logloss: 0.012566\tvalid_1's f1: 0.934384\n",
      "[285]\ttraining's binary_logloss: 0.000739282\ttraining's f1: 0.999355\tvalid_1's binary_logloss: 0.0125602\tvalid_1's f1: 0.934414\n",
      "[286]\ttraining's binary_logloss: 0.000729735\ttraining's f1: 0.999371\tvalid_1's binary_logloss: 0.0125499\tvalid_1's f1: 0.934319\n",
      "[287]\ttraining's binary_logloss: 0.000720393\ttraining's f1: 0.999388\tvalid_1's binary_logloss: 0.0125385\tvalid_1's f1: 0.934549\n",
      "[288]\ttraining's binary_logloss: 0.000712653\ttraining's f1: 0.999404\tvalid_1's binary_logloss: 0.0125359\tvalid_1's f1: 0.934904\n",
      "[289]\ttraining's binary_logloss: 0.000704994\ttraining's f1: 0.999437\tvalid_1's binary_logloss: 0.0125324\tvalid_1's f1: 0.934756\n",
      "[290]\ttraining's binary_logloss: 0.00069797\ttraining's f1: 0.999437\tvalid_1's binary_logloss: 0.0125277\tvalid_1's f1: 0.934785\n",
      "[291]\ttraining's binary_logloss: 0.000690721\ttraining's f1: 0.999437\tvalid_1's binary_logloss: 0.0125236\tvalid_1's f1: 0.934951\n",
      "[292]\ttraining's binary_logloss: 0.000683983\ttraining's f1: 0.999454\tvalid_1's binary_logloss: 0.0125227\tvalid_1's f1: 0.935033\n",
      "[293]\ttraining's binary_logloss: 0.000675916\ttraining's f1: 0.999487\tvalid_1's binary_logloss: 0.0125173\tvalid_1's f1: 0.935087\n",
      "[294]\ttraining's binary_logloss: 0.000668693\ttraining's f1: 0.999504\tvalid_1's binary_logloss: 0.0125089\tvalid_1's f1: 0.935033\n",
      "[295]\ttraining's binary_logloss: 0.000661635\ttraining's f1: 0.999504\tvalid_1's binary_logloss: 0.012506\tvalid_1's f1: 0.935021\n",
      "[296]\ttraining's binary_logloss: 0.000653858\ttraining's f1: 0.99952\tvalid_1's binary_logloss: 0.0125074\tvalid_1's f1: 0.935092\n",
      "[297]\ttraining's binary_logloss: 0.000646271\ttraining's f1: 0.99952\tvalid_1's binary_logloss: 0.0125005\tvalid_1's f1: 0.935211\n",
      "[298]\ttraining's binary_logloss: 0.000639156\ttraining's f1: 0.999553\tvalid_1's binary_logloss: 0.0125024\tvalid_1's f1: 0.935192\n",
      "[299]\ttraining's binary_logloss: 0.000632855\ttraining's f1: 0.999586\tvalid_1's binary_logloss: 0.0124956\tvalid_1's f1: 0.935424\n",
      "[300]\ttraining's binary_logloss: 0.00062633\ttraining's f1: 0.99957\tvalid_1's binary_logloss: 0.0124903\tvalid_1's f1: 0.935275\n",
      "[301]\ttraining's binary_logloss: 0.000619442\ttraining's f1: 0.999603\tvalid_1's binary_logloss: 0.0124887\tvalid_1's f1: 0.935382\n",
      "[302]\ttraining's binary_logloss: 0.000612704\ttraining's f1: 0.999603\tvalid_1's binary_logloss: 0.0124858\tvalid_1's f1: 0.935619\n",
      "[303]\ttraining's binary_logloss: 0.000606506\ttraining's f1: 0.999619\tvalid_1's binary_logloss: 0.0124859\tvalid_1's f1: 0.935512\n",
      "[304]\ttraining's binary_logloss: 0.000600411\ttraining's f1: 0.999652\tvalid_1's binary_logloss: 0.0124898\tvalid_1's f1: 0.935222\n",
      "[305]\ttraining's binary_logloss: 0.000594187\ttraining's f1: 0.999636\tvalid_1's binary_logloss: 0.0124826\tvalid_1's f1: 0.935483\n",
      "[306]\ttraining's binary_logloss: 0.00058809\ttraining's f1: 0.999685\tvalid_1's binary_logloss: 0.0124866\tvalid_1's f1: 0.935417\n",
      "[307]\ttraining's binary_logloss: 0.000581834\ttraining's f1: 0.999735\tvalid_1's binary_logloss: 0.0124802\tvalid_1's f1: 0.935678\n",
      "[308]\ttraining's binary_logloss: 0.000575956\ttraining's f1: 0.999752\tvalid_1's binary_logloss: 0.0124772\tvalid_1's f1: 0.935833\n",
      "[309]\ttraining's binary_logloss: 0.000570567\ttraining's f1: 0.999752\tvalid_1's binary_logloss: 0.0124793\tvalid_1's f1: 0.935779\n",
      "[310]\ttraining's binary_logloss: 0.000564681\ttraining's f1: 0.999768\tvalid_1's binary_logloss: 0.0124815\tvalid_1's f1: 0.935862\n",
      "[311]\ttraining's binary_logloss: 0.000558914\ttraining's f1: 0.999785\tvalid_1's binary_logloss: 0.0124854\tvalid_1's f1: 0.935851\n",
      "[312]\ttraining's binary_logloss: 0.000553448\ttraining's f1: 0.999785\tvalid_1's binary_logloss: 0.0124876\tvalid_1's f1: 0.935916\n",
      "[313]\ttraining's binary_logloss: 0.000547779\ttraining's f1: 0.999785\tvalid_1's binary_logloss: 0.0124897\tvalid_1's f1: 0.935904\n",
      "[314]\ttraining's binary_logloss: 0.000542236\ttraining's f1: 0.999785\tvalid_1's binary_logloss: 0.0124872\tvalid_1's f1: 0.935809\n",
      "[315]\ttraining's binary_logloss: 0.00053636\ttraining's f1: 0.999785\tvalid_1's binary_logloss: 0.0124822\tvalid_1's f1: 0.935958\n",
      "[316]\ttraining's binary_logloss: 0.000531142\ttraining's f1: 0.999801\tvalid_1's binary_logloss: 0.0124762\tvalid_1's f1: 0.935904\n",
      "[317]\ttraining's binary_logloss: 0.000525777\ttraining's f1: 0.999801\tvalid_1's binary_logloss: 0.0124745\tvalid_1's f1: 0.935862\n",
      "[318]\ttraining's binary_logloss: 0.00052065\ttraining's f1: 0.999818\tvalid_1's binary_logloss: 0.0124785\tvalid_1's f1: 0.935987\n",
      "[319]\ttraining's binary_logloss: 0.00051548\ttraining's f1: 0.999801\tvalid_1's binary_logloss: 0.0124758\tvalid_1's f1: 0.935975\n",
      "[320]\ttraining's binary_logloss: 0.000510584\ttraining's f1: 0.999834\tvalid_1's binary_logloss: 0.0124736\tvalid_1's f1: 0.935975\n",
      "[321]\ttraining's binary_logloss: 0.000505427\ttraining's f1: 0.999851\tvalid_1's binary_logloss: 0.0124762\tvalid_1's f1: 0.935869\n",
      "[322]\ttraining's binary_logloss: 0.000500457\ttraining's f1: 0.999851\tvalid_1's binary_logloss: 0.0124776\tvalid_1's f1: 0.936225\n",
      "[323]\ttraining's binary_logloss: 0.000495242\ttraining's f1: 0.999851\tvalid_1's binary_logloss: 0.0124758\tvalid_1's f1: 0.936089\n",
      "[324]\ttraining's binary_logloss: 0.000490393\ttraining's f1: 0.999868\tvalid_1's binary_logloss: 0.0124735\tvalid_1's f1: 0.93635\n",
      "[325]\ttraining's binary_logloss: 0.000485657\ttraining's f1: 0.999868\tvalid_1's binary_logloss: 0.0124728\tvalid_1's f1: 0.936297\n",
      "[326]\ttraining's binary_logloss: 0.000481323\ttraining's f1: 0.999868\tvalid_1's binary_logloss: 0.0124756\tvalid_1's f1: 0.936368\n",
      "[327]\ttraining's binary_logloss: 0.000476743\ttraining's f1: 0.999868\tvalid_1's binary_logloss: 0.0124781\tvalid_1's f1: 0.936345\n"
     ]
    },
    {
     "name": "stdout",
     "output_type": "stream",
     "text": [
      "[328]\ttraining's binary_logloss: 0.000471538\ttraining's f1: 0.999901\tvalid_1's binary_logloss: 0.0124761\tvalid_1's f1: 0.936428\n",
      "[329]\ttraining's binary_logloss: 0.000466736\ttraining's f1: 0.999901\tvalid_1's binary_logloss: 0.0124722\tvalid_1's f1: 0.93647\n",
      "[330]\ttraining's binary_logloss: 0.000462594\ttraining's f1: 0.999901\tvalid_1's binary_logloss: 0.0124696\tvalid_1's f1: 0.936607\n",
      "[331]\ttraining's binary_logloss: 0.000458273\ttraining's f1: 0.999901\tvalid_1's binary_logloss: 0.0124701\tvalid_1's f1: 0.936649\n",
      "[332]\ttraining's binary_logloss: 0.000453571\ttraining's f1: 0.999934\tvalid_1's binary_logloss: 0.0124652\tvalid_1's f1: 0.936554\n",
      "[333]\ttraining's binary_logloss: 0.000449099\ttraining's f1: 0.999934\tvalid_1's binary_logloss: 0.0124617\tvalid_1's f1: 0.936649\n",
      "[334]\ttraining's binary_logloss: 0.000444848\ttraining's f1: 0.99995\tvalid_1's binary_logloss: 0.0124634\tvalid_1's f1: 0.936691\n",
      "[335]\ttraining's binary_logloss: 0.000440864\ttraining's f1: 0.999967\tvalid_1's binary_logloss: 0.0124668\tvalid_1's f1: 0.936732\n",
      "[336]\ttraining's binary_logloss: 0.000436587\ttraining's f1: 0.999983\tvalid_1's binary_logloss: 0.0124671\tvalid_1's f1: 0.936732\n",
      "[337]\ttraining's binary_logloss: 0.000432323\ttraining's f1: 0.999983\tvalid_1's binary_logloss: 0.0124639\tvalid_1's f1: 0.936679\n",
      "[338]\ttraining's binary_logloss: 0.000428823\ttraining's f1: 0.999967\tvalid_1's binary_logloss: 0.0124671\tvalid_1's f1: 0.936804\n",
      "[339]\ttraining's binary_logloss: 0.000424997\ttraining's f1: 0.999983\tvalid_1's binary_logloss: 0.0124675\tvalid_1's f1: 0.936793\n",
      "[340]\ttraining's binary_logloss: 0.000421231\ttraining's f1: 0.999983\tvalid_1's binary_logloss: 0.0124654\tvalid_1's f1: 0.937002\n",
      "[341]\ttraining's binary_logloss: 0.000417724\ttraining's f1: 1\tvalid_1's binary_logloss: 0.012466\tvalid_1's f1: 0.937085\n",
      "[342]\ttraining's binary_logloss: 0.000413976\ttraining's f1: 1\tvalid_1's binary_logloss: 0.012468\tvalid_1's f1: 0.936906\n",
      "[343]\ttraining's binary_logloss: 0.000409745\ttraining's f1: 1\tvalid_1's binary_logloss: 0.0124665\tvalid_1's f1: 0.936978\n",
      "[344]\ttraining's binary_logloss: 0.000405996\ttraining's f1: 1\tvalid_1's binary_logloss: 0.0124663\tvalid_1's f1: 0.936841\n",
      "[345]\ttraining's binary_logloss: 0.000402356\ttraining's f1: 1\tvalid_1's binary_logloss: 0.0124714\tvalid_1's f1: 0.936871\n",
      "[346]\ttraining's binary_logloss: 0.000398778\ttraining's f1: 1\tvalid_1's binary_logloss: 0.0124683\tvalid_1's f1: 0.936883\n",
      "[347]\ttraining's binary_logloss: 0.000394803\ttraining's f1: 1\tvalid_1's binary_logloss: 0.0124642\tvalid_1's f1: 0.936948\n",
      "[348]\ttraining's binary_logloss: 0.00039107\ttraining's f1: 1\tvalid_1's binary_logloss: 0.0124616\tvalid_1's f1: 0.937009\n",
      "[349]\ttraining's binary_logloss: 0.000387467\ttraining's f1: 1\tvalid_1's binary_logloss: 0.0124621\tvalid_1's f1: 0.937134\n",
      "[350]\ttraining's binary_logloss: 0.000384071\ttraining's f1: 1\tvalid_1's binary_logloss: 0.012465\tvalid_1's f1: 0.937355\n",
      "[351]\ttraining's binary_logloss: 0.000380913\ttraining's f1: 1\tvalid_1's binary_logloss: 0.0124676\tvalid_1's f1: 0.937355\n",
      "[352]\ttraining's binary_logloss: 0.0003778\ttraining's f1: 1\tvalid_1's binary_logloss: 0.0124662\tvalid_1's f1: 0.937176\n",
      "[353]\ttraining's binary_logloss: 0.000374215\ttraining's f1: 1\tvalid_1's binary_logloss: 0.0124595\tvalid_1's f1: 0.937153\n",
      "[354]\ttraining's binary_logloss: 0.000371081\ttraining's f1: 1\tvalid_1's binary_logloss: 0.012465\tvalid_1's f1: 0.937183\n",
      "[355]\ttraining's binary_logloss: 0.000368238\ttraining's f1: 1\tvalid_1's binary_logloss: 0.0124694\tvalid_1's f1: 0.937237\n",
      "[356]\ttraining's binary_logloss: 0.000365085\ttraining's f1: 1\tvalid_1's binary_logloss: 0.0124746\tvalid_1's f1: 0.937225\n",
      "[357]\ttraining's binary_logloss: 0.000361896\ttraining's f1: 1\tvalid_1's binary_logloss: 0.0124789\tvalid_1's f1: 0.937279\n",
      "[358]\ttraining's binary_logloss: 0.000358803\ttraining's f1: 1\tvalid_1's binary_logloss: 0.0124795\tvalid_1's f1: 0.937332\n",
      "[359]\ttraining's binary_logloss: 0.000355691\ttraining's f1: 1\tvalid_1's binary_logloss: 0.0124748\tvalid_1's f1: 0.937404\n",
      "[360]\ttraining's binary_logloss: 0.000352437\ttraining's f1: 1\tvalid_1's binary_logloss: 0.0124741\tvalid_1's f1: 0.937596\n",
      "[361]\ttraining's binary_logloss: 0.000349468\ttraining's f1: 1\tvalid_1's binary_logloss: 0.0124747\tvalid_1's f1: 0.937638\n",
      "[362]\ttraining's binary_logloss: 0.000346713\ttraining's f1: 1\tvalid_1's binary_logloss: 0.0124744\tvalid_1's f1: 0.9375\n",
      "[363]\ttraining's binary_logloss: 0.000343288\ttraining's f1: 1\tvalid_1's binary_logloss: 0.0124654\tvalid_1's f1: 0.937722\n",
      "[364]\ttraining's binary_logloss: 0.000340455\ttraining's f1: 1\tvalid_1's binary_logloss: 0.0124658\tvalid_1's f1: 0.937764\n",
      "[365]\ttraining's binary_logloss: 0.000337179\ttraining's f1: 1\tvalid_1's binary_logloss: 0.0124644\tvalid_1's f1: 0.93774\n",
      "[366]\ttraining's binary_logloss: 0.000334387\ttraining's f1: 1\tvalid_1's binary_logloss: 0.0124639\tvalid_1's f1: 0.937836\n",
      "[367]\ttraining's binary_logloss: 0.000330691\ttraining's f1: 1\tvalid_1's binary_logloss: 0.012457\tvalid_1's f1: 0.93792\n",
      "[368]\ttraining's binary_logloss: 0.000327898\ttraining's f1: 1\tvalid_1's binary_logloss: 0.0124583\tvalid_1's f1: 0.93789\n",
      "[369]\ttraining's binary_logloss: 0.000325421\ttraining's f1: 1\tvalid_1's binary_logloss: 0.0124624\tvalid_1's f1: 0.937782\n",
      "[370]\ttraining's binary_logloss: 0.000322668\ttraining's f1: 1\tvalid_1's binary_logloss: 0.0124614\tvalid_1's f1: 0.937782\n",
      "[371]\ttraining's binary_logloss: 0.000320264\ttraining's f1: 1\tvalid_1's binary_logloss: 0.0124642\tvalid_1's f1: 0.937832\n",
      "[372]\ttraining's binary_logloss: 0.000317369\ttraining's f1: 1\tvalid_1's binary_logloss: 0.0124617\tvalid_1's f1: 0.937832\n",
      "[373]\ttraining's binary_logloss: 0.000314782\ttraining's f1: 1\tvalid_1's binary_logloss: 0.0124582\tvalid_1's f1: 0.93782\n",
      "[374]\ttraining's binary_logloss: 0.000312357\ttraining's f1: 1\tvalid_1's binary_logloss: 0.0124613\tvalid_1's f1: 0.93761\n",
      "[375]\ttraining's binary_logloss: 0.000309753\ttraining's f1: 1\tvalid_1's binary_logloss: 0.0124605\tvalid_1's f1: 0.937778\n",
      "[376]\ttraining's binary_logloss: 0.000307341\ttraining's f1: 1\tvalid_1's binary_logloss: 0.0124641\tvalid_1's f1: 0.937885\n",
      "[377]\ttraining's binary_logloss: 0.000304809\ttraining's f1: 1\tvalid_1's binary_logloss: 0.0124667\tvalid_1's f1: 0.937725\n",
      "[378]\ttraining's binary_logloss: 0.000302376\ttraining's f1: 1\tvalid_1's binary_logloss: 0.0124654\tvalid_1's f1: 0.937839\n",
      "[379]\ttraining's binary_logloss: 0.000300059\ttraining's f1: 1\tvalid_1's binary_logloss: 0.0124661\tvalid_1's f1: 0.938073\n",
      "[380]\ttraining's binary_logloss: 0.000297299\ttraining's f1: 1\tvalid_1's binary_logloss: 0.0124631\tvalid_1's f1: 0.93823\n",
      "[381]\ttraining's binary_logloss: 0.000294816\ttraining's f1: 1\tvalid_1's binary_logloss: 0.0124647\tvalid_1's f1: 0.938188\n",
      "[382]\ttraining's binary_logloss: 0.000292564\ttraining's f1: 1\tvalid_1's binary_logloss: 0.0124649\tvalid_1's f1: 0.93808\n",
      "[383]\ttraining's binary_logloss: 0.000290102\ttraining's f1: 1\tvalid_1's binary_logloss: 0.0124674\tvalid_1's f1: 0.938111\n",
      "[384]\ttraining's binary_logloss: 0.000287855\ttraining's f1: 1\tvalid_1's binary_logloss: 0.0124669\tvalid_1's f1: 0.938111\n",
      "[385]\ttraining's binary_logloss: 0.000285846\ttraining's f1: 1\tvalid_1's binary_logloss: 0.012471\tvalid_1's f1: 0.9381\n",
      "[386]\ttraining's binary_logloss: 0.000283479\ttraining's f1: 1\tvalid_1's binary_logloss: 0.0124708\tvalid_1's f1: 0.938153\n",
      "[387]\ttraining's binary_logloss: 0.000281295\ttraining's f1: 1\tvalid_1's binary_logloss: 0.0124705\tvalid_1's f1: 0.938238\n",
      "[388]\ttraining's binary_logloss: 0.000279038\ttraining's f1: 1\tvalid_1's binary_logloss: 0.0124759\tvalid_1's f1: 0.938226\n",
      "[389]\ttraining's binary_logloss: 0.000276822\ttraining's f1: 1\tvalid_1's binary_logloss: 0.0124774\tvalid_1's f1: 0.93828\n",
      "[390]\ttraining's binary_logloss: 0.000274668\ttraining's f1: 1\tvalid_1's binary_logloss: 0.0124795\tvalid_1's f1: 0.938207\n",
      "[391]\ttraining's binary_logloss: 0.000272676\ttraining's f1: 1\tvalid_1's binary_logloss: 0.012482\tvalid_1's f1: 0.938429\n",
      "[392]\ttraining's binary_logloss: 0.000270796\ttraining's f1: 1\tvalid_1's binary_logloss: 0.012484\tvalid_1's f1: 0.938345\n",
      "[393]\ttraining's binary_logloss: 0.000268481\ttraining's f1: 1\tvalid_1's binary_logloss: 0.0124799\tvalid_1's f1: 0.938376\n",
      "[394]\ttraining's binary_logloss: 0.000266411\ttraining's f1: 1\tvalid_1's binary_logloss: 0.0124793\tvalid_1's f1: 0.938322\n",
      "[395]\ttraining's binary_logloss: 0.000264281\ttraining's f1: 1\tvalid_1's binary_logloss: 0.0124825\tvalid_1's f1: 0.93846\n"
     ]
    },
    {
     "name": "stdout",
     "output_type": "stream",
     "text": [
      "[396]\ttraining's binary_logloss: 0.000262177\ttraining's f1: 1\tvalid_1's binary_logloss: 0.0124841\tvalid_1's f1: 0.938522\n",
      "[397]\ttraining's binary_logloss: 0.000260115\ttraining's f1: 1\tvalid_1's binary_logloss: 0.0124822\tvalid_1's f1: 0.938575\n",
      "[398]\ttraining's binary_logloss: 0.000258357\ttraining's f1: 1\tvalid_1's binary_logloss: 0.0124888\tvalid_1's f1: 0.938618\n",
      "[399]\ttraining's binary_logloss: 0.000256491\ttraining's f1: 1\tvalid_1's binary_logloss: 0.0124925\tvalid_1's f1: 0.938671\n",
      "[400]\ttraining's binary_logloss: 0.000254651\ttraining's f1: 1\tvalid_1's binary_logloss: 0.0124891\tvalid_1's f1: 0.938618\n",
      "[401]\ttraining's binary_logloss: 0.000252715\ttraining's f1: 1\tvalid_1's binary_logloss: 0.0124924\tvalid_1's f1: 0.938618\n",
      "[402]\ttraining's binary_logloss: 0.000250968\ttraining's f1: 1\tvalid_1's binary_logloss: 0.012494\tvalid_1's f1: 0.938744\n",
      "[403]\ttraining's binary_logloss: 0.000249144\ttraining's f1: 1\tvalid_1's binary_logloss: 0.012497\tvalid_1's f1: 0.938648\n",
      "[404]\ttraining's binary_logloss: 0.000247423\ttraining's f1: 1\tvalid_1's binary_logloss: 0.0125037\tvalid_1's f1: 0.938552\n",
      "[405]\ttraining's binary_logloss: 0.000245668\ttraining's f1: 1\tvalid_1's binary_logloss: 0.0125034\tvalid_1's f1: 0.938595\n",
      "[406]\ttraining's binary_logloss: 0.000243718\ttraining's f1: 1\tvalid_1's binary_logloss: 0.0125062\tvalid_1's f1: 0.938818\n",
      "[407]\ttraining's binary_logloss: 0.000241829\ttraining's f1: 1\tvalid_1's binary_logloss: 0.0125095\tvalid_1's f1: 0.938902\n",
      "[408]\ttraining's binary_logloss: 0.000240145\ttraining's f1: 1\tvalid_1's binary_logloss: 0.0125084\tvalid_1's f1: 0.93886\n",
      "[409]\ttraining's binary_logloss: 0.000238229\ttraining's f1: 1\tvalid_1's binary_logloss: 0.0125071\tvalid_1's f1: 0.939029\n",
      "[410]\ttraining's binary_logloss: 0.000236505\ttraining's f1: 1\tvalid_1's binary_logloss: 0.0125103\tvalid_1's f1: 0.939125\n",
      "[411]\ttraining's binary_logloss: 0.000234787\ttraining's f1: 1\tvalid_1's binary_logloss: 0.0125107\tvalid_1's f1: 0.939137\n",
      "[412]\ttraining's binary_logloss: 0.000232628\ttraining's f1: 1\tvalid_1's binary_logloss: 0.012507\tvalid_1's f1: 0.939094\n",
      "[413]\ttraining's binary_logloss: 0.000231183\ttraining's f1: 1\tvalid_1's binary_logloss: 0.0125057\tvalid_1's f1: 0.939318\n",
      "[414]\ttraining's binary_logloss: 0.000229697\ttraining's f1: 1\tvalid_1's binary_logloss: 0.0125067\tvalid_1's f1: 0.939306\n",
      "[415]\ttraining's binary_logloss: 0.000228108\ttraining's f1: 1\tvalid_1's binary_logloss: 0.0125097\tvalid_1's f1: 0.939318\n",
      "[416]\ttraining's binary_logloss: 0.000226545\ttraining's f1: 1\tvalid_1's binary_logloss: 0.0125114\tvalid_1's f1: 0.939253\n",
      "[417]\ttraining's binary_logloss: 0.000224884\ttraining's f1: 1\tvalid_1's binary_logloss: 0.0125192\tvalid_1's f1: 0.939253\n",
      "[418]\ttraining's binary_logloss: 0.000223373\ttraining's f1: 1\tvalid_1's binary_logloss: 0.0125215\tvalid_1's f1: 0.939241\n",
      "[419]\ttraining's binary_logloss: 0.000221845\ttraining's f1: 1\tvalid_1's binary_logloss: 0.0125275\tvalid_1's f1: 0.939253\n",
      "[420]\ttraining's binary_logloss: 0.000220229\ttraining's f1: 1\tvalid_1's binary_logloss: 0.0125343\tvalid_1's f1: 0.939072\n",
      "[421]\ttraining's binary_logloss: 0.00021861\ttraining's f1: 1\tvalid_1's binary_logloss: 0.0125349\tvalid_1's f1: 0.939156\n",
      "[422]\ttraining's binary_logloss: 0.000217195\ttraining's f1: 1\tvalid_1's binary_logloss: 0.0125388\tvalid_1's f1: 0.939295\n",
      "[423]\ttraining's binary_logloss: 0.00021587\ttraining's f1: 1\tvalid_1's binary_logloss: 0.0125427\tvalid_1's f1: 0.939433\n",
      "[424]\ttraining's binary_logloss: 0.000214366\ttraining's f1: 1\tvalid_1's binary_logloss: 0.0125455\tvalid_1's f1: 0.939241\n",
      "[425]\ttraining's binary_logloss: 0.000212852\ttraining's f1: 1\tvalid_1's binary_logloss: 0.012549\tvalid_1's f1: 0.939241\n",
      "[426]\ttraining's binary_logloss: 0.000211442\ttraining's f1: 1\tvalid_1's binary_logloss: 0.0125516\tvalid_1's f1: 0.939368\n",
      "[427]\ttraining's binary_logloss: 0.000210041\ttraining's f1: 1\tvalid_1's binary_logloss: 0.0125533\tvalid_1's f1: 0.939368\n",
      "[428]\ttraining's binary_logloss: 0.000208639\ttraining's f1: 1\tvalid_1's binary_logloss: 0.0125566\tvalid_1's f1: 0.939453\n",
      "[429]\ttraining's binary_logloss: 0.000206966\ttraining's f1: 1\tvalid_1's binary_logloss: 0.0125572\tvalid_1's f1: 0.939719\n",
      "[430]\ttraining's binary_logloss: 0.000205518\ttraining's f1: 1\tvalid_1's binary_logloss: 0.01256\tvalid_1's f1: 0.939549\n",
      "[431]\ttraining's binary_logloss: 0.000204171\ttraining's f1: 1\tvalid_1's binary_logloss: 0.0125648\tvalid_1's f1: 0.939688\n",
      "[432]\ttraining's binary_logloss: 0.000202881\ttraining's f1: 1\tvalid_1's binary_logloss: 0.0125665\tvalid_1's f1: 0.939677\n",
      "[433]\ttraining's binary_logloss: 0.000201555\ttraining's f1: 1\tvalid_1's binary_logloss: 0.0125693\tvalid_1's f1: 0.939665\n",
      "[434]\ttraining's binary_logloss: 0.000200142\ttraining's f1: 1\tvalid_1's binary_logloss: 0.0125682\tvalid_1's f1: 0.939549\n",
      "[435]\ttraining's binary_logloss: 0.000198883\ttraining's f1: 1\tvalid_1's binary_logloss: 0.0125705\tvalid_1's f1: 0.939719\n",
      "[436]\ttraining's binary_logloss: 0.000197414\ttraining's f1: 1\tvalid_1's binary_logloss: 0.0125711\tvalid_1's f1: 0.939677\n",
      "[437]\ttraining's binary_logloss: 0.000196131\ttraining's f1: 1\tvalid_1's binary_logloss: 0.0125712\tvalid_1's f1: 0.939654\n",
      "[438]\ttraining's binary_logloss: 0.000194884\ttraining's f1: 1\tvalid_1's binary_logloss: 0.0125745\tvalid_1's f1: 0.939612\n",
      "[439]\ttraining's binary_logloss: 0.000193723\ttraining's f1: 1\tvalid_1's binary_logloss: 0.0125806\tvalid_1's f1: 0.939623\n",
      "[440]\ttraining's binary_logloss: 0.000192467\ttraining's f1: 1\tvalid_1's binary_logloss: 0.0125837\tvalid_1's f1: 0.939558\n",
      "[441]\ttraining's binary_logloss: 0.000191159\ttraining's f1: 1\tvalid_1's binary_logloss: 0.0125821\tvalid_1's f1: 0.939558\n",
      "Early stopping, best iteration is:\n",
      "[341]\ttraining's binary_logloss: 0.000417724\ttraining's f1: 1\tvalid_1's binary_logloss: 0.012466\tvalid_1's f1: 0.937085\n"
     ]
    }
   ],
   "source": [
    "clf = lig_model.fit(X_train,y_train\n",
    "                    ,eval_set=[(X_train, y_train),(X_valid,y_valid)],\n",
    "                            eval_metric=cus_f1,\n",
    "                            early_stopping_rounds=100)"
   ]
  },
  {
   "cell_type": "code",
   "execution_count": 106,
   "metadata": {
    "ExecuteTime": {
     "end_time": "2019-10-14T13:03:00.203022Z",
     "start_time": "2019-10-14T13:02:46.174234Z"
    }
   },
   "outputs": [
    {
     "name": "stdout",
     "output_type": "stream",
     "text": [
      "fbeta score_train: 1.0\n",
      "recall_score_train: 1.0\n",
      "precision_score_train: 1.0\n",
      "========================================================\n",
      "fbeta score: 0.9022556390977443\n",
      "recall_score: 0.9207039746885505\n",
      "precision_score: 0.8353067814854682\n",
      "\n",
      "Classification report:\n",
      "\n",
      "              precision    recall  f1-score   support\n",
      "\n",
      "         0.0       1.00      1.00      1.00    375390\n",
      "         1.0       0.84      0.92      0.88      5057\n",
      "\n",
      "    accuracy                           1.00    380447\n",
      "   macro avg       0.92      0.96      0.94    380447\n",
      "weighted avg       1.00      1.00      1.00    380447\n",
      "\n"
     ]
    },
    {
     "data": {
      "image/png": "[encoded data removed]",
      "text/plain": [
       "<Figure size 432x288 with 2 Axes>"
      ]
     },
     "metadata": {
      "needs_background": "light"
     },
     "output_type": "display_data"
    }
   ],
   "source": [
    "results = {}\n",
    "results['ad'] = {}\n",
    "\n",
    "pre_train = clf.predict(X_train)\n",
    "pre_test = clf.predict(X_valid)\n",
    "\n",
    "results['ad']['fbeta_train'] = fbeta_score(y_train, pre_train, beta=2)\n",
    "results['ad']['recall_train'] = recall_score(y_train, pre_train)\n",
    "results['ad']['precision_train'] = precision_score(y_train, pre_train)\n",
    "\n",
    "results['ad']['fbeta_test'] = fbeta_score(y_valid, pre_test, beta=2)\n",
    "results['ad']['recall_test'] = recall_score(y_valid, pre_test)\n",
    "results['ad']['precision_test'] = precision_score(y_valid, pre_test)\n",
    "\n",
    "print(\"fbeta score_train:\", results['ad']['fbeta_train'])\n",
    "print('recall_score_train:', results['ad']['recall_train'])\n",
    "print('precision_score_train:', results['ad']['precision_train'])\n",
    "\n",
    "print('========================================================')\n",
    "print(\"fbeta score:\", results['ad']['fbeta_test'])\n",
    "print('recall_score:', results['ad']['recall_test'])\n",
    "print('precision_score:', results['ad']['precision_test'])\n",
    "\n",
    "# Classification report\n",
    "print('\\nClassification report:\\n')\n",
    "print(classification_report(y_valid, pre_test))\n",
    "\n",
    "conf_matrix = confusion_matrix(y_valid, pre_test)\n",
    "sns.heatmap(conf_matrix, annot=True, fmt='d', cmap=plt.cm.copper)\n",
    "plt.show()"
   ]
  },
  {
   "cell_type": "code",
   "execution_count": 123,
   "metadata": {
    "ExecuteTime": {
     "end_time": "2019-10-14T13:11:08.830380Z",
     "start_time": "2019-10-14T13:11:03.094875Z"
    }
   },
   "outputs": [],
   "source": [
    "ypre = clf.predict(test.drop(['cano','bacno','txkey'],axis=1)) \n",
    "yh = clf.predict(test.drop(['cano','bacno','txkey'],axis=1),raw_score=True) \n",
    "yh = (yh > 2) * 1"
   ]
  },
  {
   "cell_type": "code",
   "execution_count": 124,
   "metadata": {
    "ExecuteTime": {
     "end_time": "2019-10-14T13:11:12.329315Z",
     "start_time": "2019-10-14T13:11:12.089451Z"
    }
   },
   "outputs": [],
   "source": [
    "ypre = pd.DataFrame(ypre,index=test.index) \n",
    "ypre = pd.concat([ypre,test['txkey']],axis=1) \n",
    "b = submit.merge(ypre)\n",
    "yh = pd.DataFrame(yh,index=test.index) \n",
    "yh = pd.concat([yh,test['txkey']],axis=1) \n",
    "c = submit.merge(yh)"
   ]
  },
  {
   "cell_type": "code",
   "execution_count": 125,
   "metadata": {
    "ExecuteTime": {
     "end_time": "2019-10-14T13:11:15.517527Z",
     "start_time": "2019-10-14T13:11:15.509548Z"
    }
   },
   "outputs": [
    {
     "data": {
      "text/plain": [
       "15574.0"
      ]
     },
     "execution_count": 125,
     "metadata": {},
     "output_type": "execute_result"
    }
   ],
   "source": [
    "b[0].sum()"
   ]
  },
  {
   "cell_type": "code",
   "execution_count": 126,
   "metadata": {
    "ExecuteTime": {
     "end_time": "2019-10-14T13:11:18.745434Z",
     "start_time": "2019-10-14T13:11:18.741444Z"
    },
    "scrolled": true
   },
   "outputs": [
    {
     "data": {
      "text/plain": [
       "8892"
      ]
     },
     "execution_count": 126,
     "metadata": {},
     "output_type": "execute_result"
    }
   ],
   "source": [
    "c[0].sum()"
   ]
  },
  {
   "cell_type": "code",
   "execution_count": 133,
   "metadata": {
    "ExecuteTime": {
     "end_time": "2019-10-14T13:16:05.035974Z",
     "start_time": "2019-10-14T13:16:04.032889Z"
    }
   },
   "outputs": [],
   "source": [
    "b = submit.merge(ypre)\n",
    "b['fraud_ind'] = b[0]\n",
    "b.drop(0,axis=1,inplace=True)\n",
    "b.to_csv('test14.csv')"
   ]
  },
  {
   "cell_type": "code",
   "execution_count": null,
   "metadata": {},
   "outputs": [],
   "source": [
    "c = submit.merge(yh)\n",
    "c['fraud_ind'] = c[0]\n",
    "c.drop(0,axis=1,inplace=True)\n",
    "c.to_csv('test15.csv')"
   ]
  },
  {
   "cell_type": "code",
   "execution_count": 138,
   "metadata": {
    "ExecuteTime": {
     "end_time": "2019-10-14T13:29:24.392915Z",
     "start_time": "2019-10-14T13:29:24.383939Z"
    },
    "scrolled": true
   },
   "outputs": [
    {
     "data": {
      "text/html": [
       "<div>\n",
       "<style scoped>\n",
       "    .dataframe tbody tr th:only-of-type {\n",
       "        vertical-align: middle;\n",
       "    }\n",
       "\n",
       "    .dataframe tbody tr th {\n",
       "        vertical-align: top;\n",
       "    }\n",
       "\n",
       "    .dataframe thead th {\n",
       "        text-align: right;\n",
       "    }\n",
       "</style>\n",
       "<table border=\"1\" class=\"dataframe\">\n",
       "  <thead>\n",
       "    <tr style=\"text-align: right;\">\n",
       "      <th></th>\n",
       "      <th>0</th>\n",
       "    </tr>\n",
       "  </thead>\n",
       "  <tbody>\n",
       "    <tr>\n",
       "      <td>frequency_cano</td>\n",
       "      <td>2402</td>\n",
       "    </tr>\n",
       "    <tr>\n",
       "      <td>loctm_str</td>\n",
       "      <td>2121</td>\n",
       "    </tr>\n",
       "    <tr>\n",
       "      <td>seconds</td>\n",
       "      <td>2024</td>\n",
       "    </tr>\n",
       "    <tr>\n",
       "      <td>total_seconds</td>\n",
       "      <td>1952</td>\n",
       "    </tr>\n",
       "    <tr>\n",
       "      <td>std_amount</td>\n",
       "      <td>1839</td>\n",
       "    </tr>\n",
       "    <tr>\n",
       "      <td>...</td>\n",
       "      <td>...</td>\n",
       "    </tr>\n",
       "    <tr>\n",
       "      <td>night</td>\n",
       "      <td>0</td>\n",
       "    </tr>\n",
       "    <tr>\n",
       "      <td>trad_hour</td>\n",
       "      <td>0</td>\n",
       "    </tr>\n",
       "    <tr>\n",
       "      <td>ovrlt_scity</td>\n",
       "      <td>0</td>\n",
       "    </tr>\n",
       "    <tr>\n",
       "      <td>loctm_int</td>\n",
       "      <td>0</td>\n",
       "    </tr>\n",
       "    <tr>\n",
       "      <td>acc_trad_total</td>\n",
       "      <td>0</td>\n",
       "    </tr>\n",
       "  </tbody>\n",
       "</table>\n",
       "<p>89 rows × 1 columns</p>\n",
       "</div>"
      ],
      "text/plain": [
       "                   0\n",
       "frequency_cano  2402\n",
       "loctm_str       2121\n",
       "seconds         2024\n",
       "total_seconds   1952\n",
       "std_amount      1839\n",
       "...              ...\n",
       "night              0\n",
       "trad_hour          0\n",
       "ovrlt_scity        0\n",
       "loctm_int          0\n",
       "acc_trad_total     0\n",
       "\n",
       "[89 rows x 1 columns]"
      ]
     },
     "execution_count": 138,
     "metadata": {},
     "output_type": "execute_result"
    }
   ],
   "source": [
    "imp = clf.feature_importances_\n",
    "imp_col = X_train.columns.tolist()\n",
    "importance = pd.DataFrame(imp,index=imp_col)\n",
    "importance.sort_values(0,ascending=False)"
   ]
  },
  {
   "cell_type": "code",
   "execution_count": null,
   "metadata": {},
   "outputs": [],
   "source": []
  }
 ],
 "metadata": {
  "kernelspec": {
   "display_name": "Python 3",
   "language": "python",
   "name": "python3"
  },
  "language_info": {
   "codemirror_mode": {
    "name": "ipython",
    "version": 3
   },
   "file_extension": ".py",
   "mimetype": "text/x-python",
   "name": "python",
   "nbconvert_exporter": "python",
   "pygments_lexer": "ipython3",
   "version": "3.7.4"
  },
  "toc": {
   "base_numbering": 1,
   "nav_menu": {},
   "number_sections": true,
   "sideBar": true,
   "skip_h1_title": false,
   "title_cell": "Table of Contents",
   "title_sidebar": "Contents",
   "toc_cell": false,
   "toc_position": {},
   "toc_section_display": true,
   "toc_window_display": false
  },
  "varInspector": {
   "cols": {
    "lenName": 16,
    "lenType": 16,
    "lenVar": 40
   },
   "kernels_config": {
    "python": {
     "delete_cmd_postfix": "",
     "delete_cmd_prefix": "del ",
     "library": "var_list.py",
     "varRefreshCmd": "print(var_dic_list())"
    },
    "r": {
     "delete_cmd_postfix": ") ",
     "delete_cmd_prefix": "rm(",
     "library": "var_list.r",
     "varRefreshCmd": "cat(var_dic_list()) "
    }
   },
   "types_to_exclude": [
    "module",
    "function",
    "builtin_function_or_method",
    "instance",
    "_Feature"
   ],
   "window_display": false
  }
 },
 "nbformat": 4,
 "nbformat_minor": 2
}
